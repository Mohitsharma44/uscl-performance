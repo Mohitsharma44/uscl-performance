{
 "cells": [
  {
   "cell_type": "code",
<<<<<<< HEAD
   "execution_count": null,
=======
   "execution_count": 90,
>>>>>>> 8cf875d1ed79f3b4fec6063c0bc150fa0b7c6c69
   "metadata": {
    "collapsed": true
   },
   "outputs": [],
   "source": [
    "import urllib\n",
    "import urllib2\n",
    "import json\n",
    "from collections import Counter\n",
    "import matplotlib.pyplot as plt\n",
    "import matplotlib.cm as cm\n",
    "%matplotlib inline"
   ]
  },
  {
   "cell_type": "code",
<<<<<<< HEAD
   "execution_count": null,
=======
   "execution_count": 91,
>>>>>>> 8cf875d1ed79f3b4fec6063c0bc150fa0b7c6c69
   "metadata": {
    "collapsed": true
   },
   "outputs": [],
   "source": [
    "query_args = { 'username':'submission'}\n",
    "encoded_args = urllib.urlencode(query_args)"
   ]
  },
  {
   "cell_type": "code",
<<<<<<< HEAD
   "execution_count": null,
   "metadata": {
    "collapsed": false
   },
   "outputs": [],
=======
   "execution_count": 92,
   "metadata": {
    "collapsed": false
   },
   "outputs": [
    {
     "data": {
      "text/plain": [
       "'username=submission'"
      ]
     },
     "execution_count": 92,
     "metadata": {},
     "output_type": "execute_result"
    }
   ],
>>>>>>> 8cf875d1ed79f3b4fec6063c0bc150fa0b7c6c69
   "source": [
    "encoded_args"
   ]
  },
  {
   "cell_type": "code",
<<<<<<< HEAD
   "execution_count": null,
   "metadata": {
    "collapsed": false
   },
   "outputs": [],
=======
   "execution_count": 93,
   "metadata": {
    "collapsed": false
   },
   "outputs": [
    {
     "data": {
      "text/plain": [
       "'http://52.25.91.45:8500/api?username=submission'"
      ]
     },
     "execution_count": 93,
     "metadata": {},
     "output_type": "execute_result"
    }
   ],
>>>>>>> 8cf875d1ed79f3b4fec6063c0bc150fa0b7c6c69
   "source": [
    "url = 'http://52.25.91.45:8500/api?' + encoded_args\n",
    "url"
   ]
  },
  {
   "cell_type": "code",
<<<<<<< HEAD
   "execution_count": null,
=======
   "execution_count": 94,
>>>>>>> 8cf875d1ed79f3b4fec6063c0bc150fa0b7c6c69
   "metadata": {
    "collapsed": false
   },
   "outputs": [],
   "source": [
    "data = urllib2.urlopen(url).read()"
   ]
  },
  {
   "cell_type": "code",
<<<<<<< HEAD
   "execution_count": null,
=======
   "execution_count": 95,
>>>>>>> 8cf875d1ed79f3b4fec6063c0bc150fa0b7c6c69
   "metadata": {
    "collapsed": false
   },
   "outputs": [],
   "source": [
    "delimiter = \"}\"\n",
    "for line in data:\n",
    "    data1 =  [jsonobj+delimiter for jsonobj in data.split(delimiter) if jsonobj != \"\"]"
   ]
  },
  {
   "cell_type": "code",
<<<<<<< HEAD
   "execution_count": null,
=======
   "execution_count": 96,
>>>>>>> 8cf875d1ed79f3b4fec6063c0bc150fa0b7c6c69
   "metadata": {
    "collapsed": false
   },
   "outputs": [],
   "source": [
    "json_list = []\n",
    "for i in data1:\n",
    "    json_list.append(json.loads(i))"
   ]
  },
  {
   "cell_type": "code",
<<<<<<< HEAD
   "execution_count": null,
=======
   "execution_count": 97,
>>>>>>> 8cf875d1ed79f3b4fec6063c0bc150fa0b7c6c69
   "metadata": {
    "collapsed": true
   },
   "outputs": [],
   "source": [
<<<<<<< HEAD
    "json_list"
=======
    "sym = []\n",
    "for i in range(len(json_list)):\n",
    "    sym.append(Counter(json_list[i]['symbol']))"
>>>>>>> 8cf875d1ed79f3b4fec6063c0bc150fa0b7c6c69
   ]
  },
  {
   "cell_type": "code",
<<<<<<< HEAD
   "execution_count": null,
   "metadata": {
    "collapsed": true
   },
   "outputs": [],
   "source": [
    "sym = Counter(json_list[0]['symbol'])"
=======
   "execution_count": 98,
   "metadata": {
    "collapsed": false
   },
   "outputs": [
    {
     "data": {
      "text/plain": [
       "[Counter({u'abstract-method': 2,\n",
       "          u'bad-continuation': 3,\n",
       "          u'broad-except': 1,\n",
       "          u'line-too-long': 15,\n",
       "          u'redefined-outer-name': 1,\n",
       "          u'trailing-whitespace': 7,\n",
       "          u'unused-import': 1,\n",
       "          u'unused-variable': 2})]"
      ]
     },
     "execution_count": 98,
     "metadata": {},
     "output_type": "execute_result"
    }
   ],
   "source": [
    "sym"
>>>>>>> 8cf875d1ed79f3b4fec6063c0bc150fa0b7c6c69
   ]
  },
  {
   "cell_type": "code",
<<<<<<< HEAD
   "execution_count": null,
   "metadata": {
    "collapsed": false
   },
   "outputs": [],
=======
   "execution_count": 101,
   "metadata": {
    "collapsed": false
   },
   "outputs": [
    {
     "data": {
      "text/plain": [
       "Counter({u'abstract-method': 2,\n",
       "         u'bad-continuation': 3,\n",
       "         u'broad-except': 1,\n",
       "         u'line-too-long': 15,\n",
       "         u'redefined-outer-name': 1,\n",
       "         u'trailing-whitespace': 7,\n",
       "         u'unused-import': 1,\n",
       "         u'unused-variable': 2})"
      ]
     },
     "execution_count": 101,
     "metadata": {},
     "output_type": "execute_result"
    }
   ],
   "source": [
    "sym = Counter(json_list[0]['symbol'])\n",
    "sym"
   ]
  },
  {
   "cell_type": "code",
   "execution_count": 102,
   "metadata": {
    "collapsed": false
   },
   "outputs": [
    {
     "data": {
      "text/plain": [
       "[(u'unused-import', 1),\n",
       " (u'bad-continuation', 3),\n",
       " (u'unused-variable', 2),\n",
       " (u'broad-except', 1),\n",
       " (u'abstract-method', 2),\n",
       " (u'trailing-whitespace', 7),\n",
       " (u'redefined-outer-name', 1),\n",
       " (u'line-too-long', 15)]"
      ]
     },
     "execution_count": 102,
     "metadata": {},
     "output_type": "execute_result"
    }
   ],
>>>>>>> 8cf875d1ed79f3b4fec6063c0bc150fa0b7c6c69
   "source": [
    "sym.items()"
   ]
  },
  {
   "cell_type": "code",
<<<<<<< HEAD
   "execution_count": null,
=======
   "execution_count": 103,
>>>>>>> 8cf875d1ed79f3b4fec6063c0bc150fa0b7c6c69
   "metadata": {
    "collapsed": false
   },
   "outputs": [],
   "source": [
    "labels = sym.keys()"
   ]
  },
  {
   "cell_type": "code",
<<<<<<< HEAD
   "execution_count": null,
=======
   "execution_count": 104,
>>>>>>> 8cf875d1ed79f3b4fec6063c0bc150fa0b7c6c69
   "metadata": {
    "collapsed": true
   },
   "outputs": [],
   "source": [
    "sizes = [x*10 for x in sym.values()]"
   ]
  },
  {
   "cell_type": "code",
<<<<<<< HEAD
   "execution_count": null,
=======
   "execution_count": 105,
>>>>>>> 8cf875d1ed79f3b4fec6063c0bc150fa0b7c6c69
   "metadata": {
    "collapsed": false
   },
   "outputs": [],
   "source": [
    "# get the color map then pull 1 color from it for each pie wedge we'll draw\n",
    "color_map = cm.get_cmap('Pastel1')\n",
    "num_of_colors = len(sizes)\n",
    "picolors = color_map([x/float(num_of_colors) for x in range(num_of_colors)])"
   ]
  },
  {
   "cell_type": "code",
<<<<<<< HEAD
   "execution_count": null,
   "metadata": {
    "collapsed": false
   },
   "outputs": [],
=======
   "execution_count": 106,
   "metadata": {
    "collapsed": false
   },
   "outputs": [
    {
     "data": {
      "text/plain": [
       "[]"
      ]
     },
     "execution_count": 106,
     "metadata": {},
     "output_type": "execute_result"
    },
    {
     "data": {
      "image/png": "iVBORw0KGgoAAAANSUhEUgAAAiUAAAHbCAYAAAAUHeofAAAABHNCSVQICAgIfAhkiAAAAAlwSFlz\nAAALEgAACxIB0t1+/AAAIABJREFUeJzs3Xd4HNXVwOHf2V317l5CXDHGBReMAePIBkxEb6aFHiCU\nUEIPgSRAEhJIIaGkQ+idkNA+SkiA0ELvpoO7JMsqK20vc74/dmxk4yLbkmZ3dd7n0aPV7J2Zs+v1\nnbP3npkRVcUYY4wxxms+rwMwxhhjjAFLSowxxhiTJSwpMcYYY0xWsKTEGGOMMVnBkhJjjDHGZAVL\nSowxxhiTFSwpMcasl4gcLyLPdfq7Q0RG9sJ+S0TkYRFpE5F7emF/N4vIT3t6P8aYDbOkxJgc5yYO\n74pIWETqReQPIlLVE/tS1QpVXejutycP5IcAg4B+qnr4uhqIyDgRuU9Emtzk5W0ROUdENqdfU/fH\nGOMhS0qMyWEich5wJXAeUAnsBIwA/iUiBV7GtoVGAB+rqrOuJ0VkDPAysAiYpKrVwKHA9kDFZu5T\nNnM9Y0w3saTEmBwlIpXAZcAZqvqkqqZVdRFwGDASONptt8aIhojMFZElnf6+SEQ+FZF2EXlfRA7c\nwD4dERkjIicDRwIXulM6D4nI+SJy/1rtrxWR361nW9uKyDMi0ioi74nIfu7yy4EfAYe72/72Ola/\nHHheVc9X1UYAVf1YVY9W1aC7nf3d19MqIk+LyPhO+54mIm+4r/luoHit2PYVkbfcdV8Qkcnre0+M\nMd3HkhJjctcsMgfTBzovVNUw8H/AvFWL2PDUxKfAbFWtJHOwv11EBm+gvarqX4A7gKvcKZ39gduB\nPVdNHYlIADgcuGXtDbijOA8DjwMDgTOBO0RknKpeCvwcuNvd9k3riGF34P51LF+1/XHAncBZwAAy\n78fDIhIQkULgn25cNcB9wHzc90hEpgE3At8B+gF/Bh5y1zPG9CBLSozJXQOAleuZ4mgA+nf6e71T\nE6p6v6o2uI/vBT4BduxiDKu3627jOTLTKAB7Ak2q+uY61tsJKFPVK1U1papPA48A3+q03Q1Np/QH\n6jfw/OHAI6r6b1VNA78GSoBd3H0HVPUad3Tp78CrndY9Gfizqr6qGbcCcXc9Y0wPsqTEmNy1Ehiw\nnsLOoUBjVzYiIseKyJvuVEUrMIk1E5pNcQvutJH7+7b1tBsGLFlr2SJgeBf30+xuY32GAotX/aGZ\nO48ucbc/FFi2jn2vMgI4b9X74b4nX3PXM8b0IEtKjMldL5H5Bj+/80IRKSczSvGkuygMlHZqMqRT\n2xHAX4DTyZzpUgO8R9eKPtc1JfQgsJ2ITAL2ITPFsy7Lga1EpPN+RgBLu7BfgKdY63WvY/sjVv3h\n7mcrd/v1fDX5GdHp8WLgClWt6fRTrqo9fmqyMX2dJSXG5Ci3oPNy4DoRqRORAvcaIvcCnwGrDqJv\nAXuLSI2IDAHO7rSZMjLJxUrA5xaVTupiCI3A6LViigJ/J1PP8bKqri/J+B8QIVMoWyAic4F9gbu7\nuO9LgVki8stV9S8iMlZEbnMLgO8F9hGR3dz6lfOAGPCiu++UiJzl7vtgYIdO2/4rcKqIzJSMMhHZ\nx032jDE9yJISY3KYqv4KuJhMzUQ78DmZJGNPVU25zW4D3gYWkiksvdttg6ouAH5DZtSlgUxC8nzn\nXbDmiEjnxzcCE9wpjs7Ftre421nf1A2qmgT2A/YCmoDrgWNU9eP17Hft9T8HdiZzltH7ItJGpvD1\nVSDkbudo4Dp3+/sA+7n1KwngYOB4MtNAh5FJpFZt+3UyRa7XAy1kamyOXV8sxpjuI5mpVmNMPhCR\n44GrgJ3dA7cXMWwFfAgMVtWQFzEYY3JTwOsAjDHdR1VvFpEUmbNnej0pcYtuzwPusoTEGLOpbKTE\nGNMtRKSMTJ3JF2Smj9Y+w8UYYzbIkhJjjDHGZAUrdDXGGGNMVrCkxBhjjDFZwZISY4wxxmQFS0qM\nMcYYkxUsKTHGGGNMVrCkxBhjjDFZwZISY4wxxmQFS0qMMcYYkxUsKTHGGGNMVrCkxBhjjDFZwZIS\nY4wxxmQFS0qMMcYYkxUsKTHGGGNMVrCkxBhjjDFZwZISY4wxxmQFS0qMMcYYkxUsKTHGGGNMVrCk\nxBhjjDFZwZISY4wxxmQFS0qMMcYYkxUsKTHGGGNMVrCkxBhjjDFZwZISY4wxxmQFS0qMMcYYkxUs\nKTEmi4hIaD3LTxGRY3o5luNEZGhv7tMY07cFvA7AGLMGXedC1T/3ZhAi4geOB94D6ntz38aYvstG\nSowBRGSkiLzb6e/zReRSEXlaRK4UkZdF5CMRme0+f7yIXNep/SMiMkdEfCJys4i8KyLviMjZ7vNj\nROQxEXlNRP4rItu4y0eJyEtu259tIL7LROQ89/EzInK1iLwqIh+IyA4i8g8R+VhEftrp9XwoIreL\nyAIRuU9EStzndheRN9x93igihe7yhe5rfR04ApgB3OG2Le7mt9wYY77CkhJj1q3ziIVfVXcEzgYu\n3UB7BaYBw1R1sqpuB/zNff4vwJmqOgO4APiDu/wa4Pdu2+UbiUc7PY6r6g7AH4EHgVOBScDxIlLj\nthvnbnsC0A58100ubgIOc/cZAE7rtN2Vqrq9qt4BvAYcqarTVTW2gdiMMaZbWFJizMY94P5+Axi5\nkbafAaNF5FoRqQM6RKQc2Bm4T0TeBP4EDHHbzwLuch/fvgkxPeT+fg94T1UbVTUBfA5s5T63RFVf\n6rTt2WQSlS9U9VN3+S1Abaft3rPWfmQTYjLGmC1iNSXGZKRYM0nvPF2RcH+n+fL/zDrbq2qbiEwB\n6siMXhxGZoSlTVWndTUYEbkC2DuzSZ2+jiZx97fT6fGqv1fF2Hm0R1h3vcray8NrPb/OGhdjjOkJ\nNlJiTEYjMEhE+olIEbDvRtovBKZKxlbATAAR6U9muucB4EfANFXtAL4QkUPcNiIi27nbeYFM/QbA\nUas2rqqXqOq0tRKSTR21+LqI7OQ+PhJ4DvgIGCkiY9zlxwDPrmf9DqByE/dpjDGbzZISYwBVTQI/\nAV4BngQ+WPUUa44WqNv+eeALYAGZupDX3eeHA0+70zS3AT9wlx8FnCgib5GZctnfXf494HQReQcY\nxoZHJtb13NrxdfaRu+0FQBXwR1WNA98mM5X0DpkRnz+tZ/s3A3+yQldjTG8RVRudNSbfiMhI4GFV\nnexxKMYY02U2UmJM/rJvHMaYnGIjJcYYY4zJCjZSYowxxpisYEmJMcYYY7KCJSXGGGOMyQqWlBhj\njDEmK1hSYowxxpisYEmJMcYYY7KCJSXGGGOMyQqWlBhjjDEmK1hSYowxxpisENh4E2OMWa8CoAIo\nX+t358cFZL4A+YBBwFDgHcAB0mRuChgGQu5P58edf+zy08bkObvMvDFmXYqBkcDXgK+p6nBSqTGo\n83WQIYgMwO+vRqQQJ50gnU6RTqdJpZR0Ck2mhFTSRyrpJ+34QAVVobqfX8qrIJxIsyrJEHHwSdr9\nUXwCPhFEfAh+fFIAgNKG6kqgHliCTxaKSAPQACwEPgPae/uNMsZ0H0tKctCW3AG2N+4eKyJnA39W\n1aj796PAt1S12w4YIjICmKWqd7l/bw8cq6rf66599AF+4OvAOGCcplKTcdLb4fONweevIRGPEIs5\nGo34iYRLNBb1E4uh8Tgk4hCPQSq1STuUcdviGz46rcs7/Ju2IuD3QcCX+e0XJOBTAr4YAX+SAh8E\nfKUoUVSXAB/hk7dF5BPgU+BDLGExJuvZ9I3pCd8DbgOiAKq6Tw/sYxRwJHCXu4/Xgdd7YD/5Yjiw\nDTBNk4nZINPx+4eRSsYJh1Pa0V6kHe3FhENoOATRCKhWeB30agqknMzPl4sEKHF/MvxSQYF/AgX+\nCVLg218LAxEK/Q4FvlJUW1HexifPi8hbwFvAEmxayJisYUlJ7gqIyO3AdOB94FjgAmBfMp30i6p6\nCqweRfgbmc73yfVtUETGAn8CBpCZ6z9EVb8QkV8Be7rr/0xV7xWRucBlQBMwCXhdVY8WkbOAYcDT\nItKkqruLyEI3zkrgMeA5YBawDDhAVWMi8gxwnqq+LiIDgFdVdZQ7snMrUOaGeYaqvgRcCYwXkTeB\nW8gcYM5T1f1EpJ/7ekcBEeBkVX1XRC4jMzIwyv39O1W9bhPf91xQAkwDZiZSzm4i7OwTGeDrCAa1\nraVY29qKtL0NQiFw0r3eBziqPumpjacV0imIpdDMSNCXiVWBbxBFgT2kKLCrFgfCFPoLEAHVDxF5\nVnzyDPAC0NxT4RljNsySkty1DXCCqr4kIjcC3wWuU9WfAIjIrSKyr6o+AtwEfFdVnxeRX25gm3cA\nP1fVB0WkEPCLyHxgCrAdMBB4VUT+67afCkwgM8f/gojMUtVrReQcYK6qtrjtOn8THQscrqoni8g9\nwHx3v8q6v7E2AnuoalxEtgbuBHYAvg+cr6r7ua93bqd1LieTJB0oIruSSWqmuc+NA3YlkyB9JCJ/\nUNX0Bt6TXFAOzE2lnX0dZfeAX0ZG4qlwSyhe1BJKFLdFEnxj/CDSb7xSRSTsdazeSTqQTKChRACo\nAsAvUBSYTlFgKqUFJ1IUKEa1EeFp8fmeAp4nU69ioynG9AJLSnLXEnfEAOB24CxgoYhcSOabcj/g\nPRF5HqhS1efdtrcBe629MRGpAIap6oMAqppwl+8C3KmZ4qMVIvIsmaSgHXhFVZe77d4iUxj54kbi\n/kJV33Efv+6usyGFwPUiMoXM6M3Wq0LewDq7AAe7r+NpEenvvj4FHlXVJNAsIiuAwcDyjcSQbXzA\nFEe1LpXWQwI+mdweTcbq26LlzaG4rz2SwFH3oOsKRZNO+ZBhPv38E49CXoOy4X+/3pNWiCQhkvRp\na7QSgCL/VhQXHEtpwUEUBwKIxFH9j/h99wNPAC0b3KYxZrNZUpK7On9zE/fv3wPbq+oyEbmUzBkU\na3/DW30wEJGbyIx2LAOO2MC+1j6ArNpmvNOyNF37PK29TrH7OMWX180p7tTmHKBeVY8RET8Q68I+\nYP0HvcRa+8+V/wODgG8mU85BPh/zkin1NQSjBSuCsaLmUJy0o4UbWrk5FJfy/gOUzz/JjmQgm8XT\nEE+jwVhm6qfAV0JJwcGUF+1BcaAI1Q/xyd1uAfe72CiKMd0mVzpk81VfF5GdVPV/ZAo+nydTp9Es\nIuXAocC9qhoUkTYR2UVVXwCOWrUBVf125w2KyFIROcCdvikikyQ8B5wiIrcA/YFa4Hwy0zbr00Fm\neqQr3yhXHSQXAjOA14BDOj1fCSx1Hx9Lpk5g1T7WV4j5HJnX+TN3WqdJVTtEJJcOyAFgdtrRfRxH\nD/L5+FpzKJFoaItWNLXHiCY2bcapLZKU4YMqddNOeTGAO+0TR9vjFZnS2oLtpKxwGy0rvASfxIBH\nxCd/B/5D5horxpjNZElJblLgI+B0EfkbmULXPwI1wHtkrtvwcqf23wb+JiKrCl3X983uGODPIvIT\nIEmm0PUfIrIz8La73gWqukJEtt3Adv4CPC4iy1R193XEvq6/fw3cKyInA492Wv4H4O8icizwOJmL\naOHGk3anjW4G3uy0zmXu632bzEHiuE77yuZvtQLskEo7J4hwZDSR1vrWaNmK9pi/LZxAoWhzNxyM\nJPEVVedSUpadFIgk0UiyiKZwEQX+MsoKjqW88CCKAsU4+pr4fXcD95OptTLGbAK7Tokx3hubdvRY\nR/WkVForljSHi5e2hAORePfW3+41dRj6zFMQ9e7LvIzbFoaNcqQ+lH+3uPAJlBQg5YURygr9qL4g\nft+1wP+RSfKNMRthIyXGeGOgqh6eSutpCKOWtUR8S5vDRW2Rnjt2dUSTWjF0qOjnn/bYPvo0RyGc\nQMOJUgQoL9qN6uIdKPAr8DfxyZ/JXMTNGLMelpQY03tKgQMSKedUv092bAxGU0uaI2Ur22O9MqfU\nEopT0W8gWFLS8xToiKMd8QoKfEhl8Xe1sugU4BPx+64B7uXLqUhjjMuSEmN63uRk2rnIJ3JQWziR\nWtwcrmhoi5J2dLNrRDZHMJqS9MBKx2d3B+9dSQdtjhTSHIGygu2oKr6G4oLrgQfEJ78H/kd21zoZ\n02ssKTGmZ/iAumTK+bHClC9WdBQuXhn2xztdJr23BSMJpKjKEhIvhZNoOFmOX6Ci6Aiqiw/AJ62I\nXOee4bbC6xCN8ZIlJcZ0rxJVPSbl6I/iyXTVJw0dFfWtEZws+B4ciqXw+XxocSnEIl6H07elFdpi\nfm2LlVMcKJeq4su0rPCnqD4rft+vgH9joyemD7KkxJjuMTTt6Fmgp7eEEvJpQ0d5cyi+8bV6WSia\n0PKhw0S/sLqSrBFLobFQKSJQUfhNakpm4ZNF4vddxJqnxxuT9ywpMWbLTE2mnYt9IvstbQnzeWOo\nOBxPeR3TerWE4pT3HwCWlGQfVWiPo+3xcsoKJ9K/9C780uAmJ/8AvJv7M6aXWFJizKYTMvUilytM\n/ryxo3DRypA/mc7+L7Rt0ZQMG1jp+K3YNbtlTi0up7RgLP1Lb6bAd7X4fBcD95C5JYMxecmSEmM2\nzdxk2vldMuWM/ai+vWx5a4Rcuv5gMJLAZ8WuuSOSRCPBckoKyulf+icK/b9C+KGI3M6a93EyJi9Y\n52RM18xMpp0XY8n0I+8taZvyn/cbypa15FZCAl8Wu1Jc4nUoZlNEk+jSYLkubx9KLHWNOrpMVU9n\nzZtXGpPzLCkxZsMmJdPOU4lU+ukPlrbt9O9368uWteT2mSuhaEJl6DCvwzCbI5ZCl7WX6/L2AURT\nV6mjS4Cjsb7c5An7IBuzbsOTaeeOVNp55ePlwV2fere+dHFzRHJsYGSdWsIJ6DfQ6zDMloil0OXt\nZbq8fYDGU39Ux1kA7Op1WMZsKUtKjFlTRdpxfpF2nE8WN4UOeeq9+pIvmsK+bLjOSHdpiyQlXVFp\nZ3Lkg1gKXRIs1xXhbTTlPKJp59/Atl6HZczmskJXYzICjurJqvqLhrZYwQfLgiWxZPfepTdb2JVd\n81AogYYSpVQXz6Ff6RvA3eKTi4BGr0MzZlNYx2QMbJ9MO+8Hw4lfvvBRU+WbC1vyNiGBzsWuViOZ\nd9pifl3YWkx77Fvq6Geqehbg9zosY7rKkhLTl5Wn0s71ybTz3HuLW7d+4eOmsvZo0uuYekU4llAZ\nOtzrMExPcBRdGSnSJcEy4umfq+O8B8zwOixjusKSEtNX7Z1KO583BqMnPv1+Q8my1qh4HVBvagkl\nECt2zW/JNLo0WKZNkW007fxXHf0rUOV1WMZsiCUlpq8ZnEw7/4wlUve99nnzwDcXthYnPLxzr1fa\nIklJlVuxa5/QERdd1FZCKH60OroQ+BaZqxIbk3UsKTF9hajqSWnH+XRRU2jv/7zfWLqyI/tumNdb\nMsWuxfb/v69wFF0RLtbl7dWaSP9V085zwFZeh2XM2qxTMn3BuGTaeaUjmvzd8x81lX+4vL3AybVL\nsXazUCyF3++DIit27VNiKXRxW5m2xXZURxeo6vHYqInJIpaUmHxWmHb0slTaeeuj5cHp//1wRVlH\nHylk3RgFQrGkYld27ZtaowFdGiwn6VyvaedJYIjXIRkDlpSY/DU6lXbebAnFLnxmQWPJwqawfdbX\n0hKK4+s/yOswjFcSaXRxWxnt8Vp19CPgEK9DMsY6apN3VPXQVNp558PlwfEvf9qc19cc2RJW7GoA\ntDlSqMvaKzWZvkUd5x9AP69jMn2XJSUmnxSn0s6N0UTqlpc+aSqz0ZENC0aTSFGRvUcG4il0cVsp\n7Ym93FGTWV6HZPom65BMvhifTKXfb2yLHP3fD1aUBCNWO7IxoWgSv98PhUVeh2KygYKuDBdpQ8cA\ndZyn1NGLsGOE6WX2gTM5z1E9NplOv7FgaXDUm4vaClP5dPe8HmTFrmadIkl0cbCEZPqH6jhPAf29\nDsn0HZaUmFxWlkw7d0ViyT+/+PHKkiUtETu1cRO1hOL4Blixq1lLykGXBMtoj++ijn6ITeeYXmJJ\niclVk5Op9Af1LeH5z33UVGyn+m6eYNSKXc366cpI4VrTOZb4mx5lSYnJOY7qd5Kp9MvvLWn72jtL\nggVpm67ZbMFI0q7sajZsjekcfQgo9Tokk7+sMzK5xJ9KO3+MxJLXPv9RU5+7iV5P6Fhd7FrodSgm\nm6UcdGmwjHBid3X0DewS9aaHWFJickVZLJF8sjUUO+GFj5uKw/GU1/HkBQXC8aQyZLjXoZhsp6CN\noRJtiYxRR98GdvI6JJN/LCkxuWBINJZ4u7EtWvvK5y2FybRN13Sn1lBcfQMGeh2GyRVtsYA2dNSo\no/9W1eO8DsfkF0tKTFZLpVKTYvHEBwtXhke9u7Q90Mfvo9cjWiNJX6qiyopdTddFkujSYClp/YM6\n+jvA73VIJj9YUmKyVjyRqEs7+uqCZe1Vn62wq7P2FCt2NZslc++cUuKpk9RxHsMKYE03sI7IZKVI\nNHqaqjz8+sLW4uVtMSto7UEdMSt2NZvJUXRZexnh5Gx1nJewC62ZLWRJick2vo5Q+FpHfde89Glz\nQUso4XU8eU91VbGrXdnVbB5tDJUQjI9XR98ERnodj8ldlpSYbFLcEYo8Fk9z6oufNhfYGTa9J1Ps\nald2NZtPmyOF2hwZpo6+DkzyOh6TmywpMdmiKhSJvh6MpXd75fPWgkTK6i57U1sk5UuVW7Gr2ULB\nmF9XhGrU0RexS9ObzWBJifFcOByp6QhF3lzRnhj/1uJgwC7Q2vvaIgmkuNhqd8yWCyVEGzoq1NF/\nAXt6HY7JLZaUGE+1tLQOSDnOew0diRELlnfY59EjbrGrUGDFrqYbRJLo8vZSdfQBYF+vwzG5ww4C\nxjMffPTxcF8gsKCxIzXko/qQfRY9pAoRK3Y13SmWQpe1l6ij9wD7eR2OyQ12IDCeWF7fMGPokKHv\nNnak+n/cYAlJNmgJJ7Aru5puFU+hy4KlbmKyv9fhmOxnBwPT615/862R/fpVP1dWXlKzqDlqn8Es\n0RZJil3Z1XS7eBpdFixRR+8CDvA6HJPd7IBgetULL708YsyYUW+sTDQWBhMtOmfCQC0M2McwGwQj\nCSgusWJX0/0yiUmpOs5dwIFeh2Oylx0NTK95/F//HjFhwrg3QtJW1Rhf5lsU/lQ6kq1YYpIdOqJJ\nAn6/EAh4HYrJR/G0W2Pi3ImNmJj1sCOB6RWX/+KKMdOmTno74uuobowvW/25s8Qkeziri12Hex2K\nyVerExO9E5jrdTgm+9hRwPS4n//6in4nHn/cM05xqqIhvvQrnzlLTLJHaziBb6Bd2dX0oHgarW8v\nVUcfBqZ5HY7JLnYEMD3q6BOPLD/04ENfKK4sHLI8vmi9nzdLTLJDqxW7mt4QTaGNoTJ19D/AWK/D\nMdnDen/TYw44fL/S886+4D8DhwwYuzj62UYLFSwx8Z4Vu5peE06IrgxXqKPPA0O9DsdkB+v5TY+o\nrZtdeO5Z5z8wdusx0xZGPwkoXbt2vCUm3rJiV9Or2uN+bY32U0efA6q9Dsd4z3p90+1q62b7f3De\nxTfsMGPGvC8iHwXSmt6k9S0x8Y6jEEmk7Mqupve0Rgtoj22ljvNvoMTrcIy3rMc33aq2bracccqZ\nP9917q5Hfh7+yJ90kpu1HUtMvNMailuxq+lVujJSSCS1rXtWjk0f9mHW25tuNf+A+afuv+8B534R\n+cQfd2JbtC1LTLyRubJrtRW7ml6ljR0lJNN7qKM/9joW4x3r6U23Ofeis/f+9jEnXL08utgfSYW6\nZZuWmPS+YCQJRcX2bdX0LgVd3l6G6vdVdb7X4RhvWC9vusVB3zpg2vfOOOeWkAQLWpMru/WAZolJ\n72qPJggEAlbsanpfWtHl7SUotwLTvQ7H9D7r4TeDiHTPMMBXt3u5iOy+kTbPiMj261h+vIhc1xNx\nbUxt3eyRF5570d0V/cqq6mNL/T2xD0tMeo+jEE2klMF2lqbxQDyNNoZK1NEnsVOF+xzr3TdP185v\n3QQi4lPVS1X135u5726PqStq62bXnH7KGTdOnjxp9KLoZwU9uS9LTHpPa9iKXY2HwgnR1milOvoU\ndkZOn5JTPbuIjBSRdzv9fb6IXCoiT4vIlSLysoh8JCKz3efXGD0QkUdEZI6I+ETkZhF5V0TeEZGz\n3efHiMhjIvKaiPxXRLZxl48SkZfctj9bT2x7isi9nf6eKyIPu4//KCKvish7InJZpzYL3bhfBw51\nY5rvPvdjEXnFjfHPa+3uGBF5031uh3XEMlBE7nfXf0VEZm3ym90FtXWzC/ff+4BfHrDvgXMWRj4J\nOJt46u/msMSkd7SGk5KuqPYk0TUGyJwqHEmMUkf/5nUopvfkeq/eudP0q+qOwNnApRtor2TutzBM\nVSer6nbAqg/9X4AzVXUGcAHwB3f5NcDv3bbL17Ptp4AdRWRVVn84cJf7+GJV3QGYAswRkUmd4lmp\nqtur6j2d4gO4TlVnqupkoERE9nWXC1CiqtOA73aKvXMdxzXAb1V1JnAIcMN6Yt5stXWzZdqUaWd8\n95TTj1sc/WyLz7TZFJaY9LxgJEkUYda532f7M89lu9PO4pKbb/9Kuw+XLGX2eRdRftDh/PaBB1cv\nbwoGmXPhxUw9/Wwe+t8rq5cffNoZNDQ09MprMLlPG0MlpJ39VPUEr2MxvSOfevQH3N9vACM30vYz\nYLSIXCsidUCHiJQDOwP3icibwJ+AIW77WXyZYHy1ZwZUNQU8DuwvIgFgb2BVL324OxryBjARmNBp\n1XvWE+NuIvI/EXkH2K3TOroqFlV9DqgUkaq11p0HXO++jgeBChEpXf/bsekqyivqLjjn+z9sTjb6\nO5LB7tx0l1hi0rPaownKy8vlqV/+nNevu5o3rv8tz7z7Ls+//8Ea7fpXVvC7U0/i3IPXvBP93c8+\nz6l778lLV1/FtQ8+AsAjL7/KtInbMmTIEIzpEgVd3lGGch2wndfhmJ6Xa715ijVjLu70OOH+TgOB\nDbVX1TYyoxbPAKeSGUkQoE1Vp3X6mbihYETkCnca5Q130d3AYcCuwGuqGhaRUcB5wG6qOgV4dK24\nw+vYbjF8AG3ZAAAgAElEQVTwe2C+Ozrz17XWWdva15QQYMdOr2MrVY1s6LVsitq62RPPPuPcX5dV\nlZSviNd79hmyxKTnuMWulI4YCUAimSLtOPSrKF+j3cCqKmZsPZYC/5r1zYWBAOFYnFgyid/nI51O\nc91Dj3LBd07qrZdg8kUyjTaFStTRR4FKr8MxPSvXevJGYJCI9BORImDfjbRfCEyVjK2AmQAi0p/M\ndM8DwI+AaaraAXwhIoe4bUREVmXmLwBHuI+PWrVxVb3EPeivOnXtWTKnsX2HL0dWKskkHu0iMhjY\nqwuvc1UC0uyO4Bza6TkhMzWEWzvT5sbe2ZPAWatXEJnahX12SW3d7KH71O171Td2mb3N4ujnPVrY\n2hWWmPSc1nBc6T+A7c88l+HHfJu5kycz4etbdWndb839Bg+//Ap7/ehyfnD4fP7w6OMcvdsciouK\nejhqk5c6EkIoPkAd53bsiq95Lad6cVVNAj8BXiFz4F01lty5FmPV36jq88AXwAIydRavu88PB552\npzduA37gLj8KOFFE3gLeA/Z3l38PON2dShnGes50UVUHeATY0/2Nqr4NvAl8CNwBPN+F19lGZnTk\nPTJTQi+v9dpi7ujMH4AT1/EenAXMEJG3ReR94OSN7bMrautmF48aMeqiM7971h6Lop8FUrp5l5Dv\nbpaY9Iy2SFKcqn7O69ddzcKb/8pz77/Ps++816V1K0tLefDSS/jfb3/FlNGj+L9XX+PgXXbmlEt+\nxOFHf8v3vzdf6+HoTb7RpnAxKd1NVc/wOhbTc0TVCuzNxtXWzZbCgsLjbvjj334ZqJH+jbFlWXf0\nH1E2VisKanh2QZMkUnaV9C1VXVbIzFE16vvXIwJwxV33UlJUyLkHH/iVtj+98x7Ki4s5Z63aEoDz\n/3oTB+w8k4+WLqfk6yM4+PiTnUPmH+J77G/3fqWtMRsU8CFfr46KT77Bl18yTR7JugOLyVo7nH3G\nOedUD6iszsaEBGzEpLstWdZIKBQS/H6i8ThPvfUOU0ePXmfb9X25+WTZcupbWvjGpIlEEwlEMiPv\nsVi0x+I2eSzloCtCxeroA9j1S/KSjZSYjaqtmz1ktzm7/+Wi83+w18ehdwObe+ff3mIjJt1j4Scf\ncMOVF6KRME4iwdG7zuG8+Qfyl8eeAODkvepoaG1l53MupD0SxSdCRWkJ7/zhGspLMseLI6/6NT89\n9mjGDB1CUzDI/N9cSzAa5ydnfJ+DvrmPly/P5DAZUh6htPBW8clpXsdiupclJWaDautmF9ZU11x2\n+413nN3oLCsJJlq9DqlLLDHpHtNG1DhDo80+5+3uGSmXcdvCsFGO1IdsKMtsPp8gI6oj4vftB/zH\n63BM97GOwaxXbd1sAQ75wQUXHxqVSEGuJCRgUzndpTWS9KUrqiyrM9nFUbQxVKqO3gNUex2O6T7W\nW5sNmbLnvL2+PWW7qSOWxRbl3C1jLTHZcsFIAi0ptVMwTfaJJKEjXq6Orn0bDpPDrKc261RbN7tf\nTXXNGd874+xdlkQ/L+iN+9r0BEtMtkx7NEkgEBB89t6Z7KMrw8U4zr7AwV7HYrqH9TTmK2rrZvuA\nY3/4/R99I+S0F3hxGfnulM2JyUN33sgZh83j9MN256E7b1xvu4/ff4sDZo7kxf88BkCwtZkLTziY\nMw6bx/+eeWJ1u5+deyKtK1d0W3xpR4klUzDY7iBvspCC1odK1dGbgAFeh2O2XHb10CZbzNpj1z32\nmjRp8qjlscU5N22zLtmYmCz69EOe/OddXH3bI1x715O8+vy/qV+y8Cvt0uk0t1z7C6bvPHf1smcf\nf5C9Dz2G39z68Opk5pX//osx4ydTM2BQt8bZGko4vkGDu3WbxnSbeAra40XqONd4HYrZctnRO5us\nUVs3e2BFecUJZ5957i5Lo1/k7LTNumRbYrJ04WeMmzSNwqJi/H4/k6bvyEtPP/6Vdo/ccxOzdt+b\nqpp+q68HUlBQQDwaJZmI4/P7SafTPHTX35h/3KndHmdbJOlLV1RbsavJWtocKUI5CNjF61jMlvG+\nZzZZw522Of78710wPUakqD3Z5nVI3S6bEpOvj9mGBW+9QkewlVg0yqvP/4eVjfVrtGleUc/LzzzJ\n3oceC7D64mNz9jyQ/z37JD86/SgOO+FMHr33FnbbZz6FRRu6b+PmabNiV5PtVNGmcIk6ehvg+T25\nzObLi6F5021mTdx24qxZO+8y8cP2d/L2s7Eo/KmMKBurcyYMVC+vY7LVqLHMP+40fnz6URSVlDJ6\nm4mIb81j/19/fTnHnfkDRARVXT1SUlpewaXX3AxAqL2N+266nkt+cwPX/fRCwh3tHHjMyYyfPH3t\nXW6WVcWujs8Hjg2YmCwVSkBVapAWB84Vkau8DsdsHrt4mgGgtm52fxH5+W033rEPlalhTfGGvP9m\nnG0XWLv1+isZOGQ4ex1yzOplJ+2/y+pEpKOthaLiEs744VXsOOebq9vccPXl7DS3jmULP6egqIhZ\nu+3NLy74Dpdff3u3xbbbxMEUvv8m1C/bou3YxdNMjyrwIVtVR8Qn44ElXodjNp11DGbVRdKOPvSg\nw0b1618zqCnemPcJCWTHVE5by0oAVtQv46Wnn2DOnmve7O6Gh17gxodf5MaHX2TW7ntz2g9+vkZC\nsnzxF7Q0NTJp+k7E47HV0zvxeKx74wwnHN9AK3Y1WS7pQFu0QNPOX70OxWyevB2iN5tkcnl5xcwT\njj1h9pLYFwXQd0bPvJ7KufLCU2gPthEIBDjtoisoLa/gsb9nRjj2mn/0Rte/7Q+/5NjTvw/AnD0P\n4IrzTuL+m3/P0aee361xtkaSvoGV1Y7YFxmT5bQ1WiCVRd8A9gEe9Toes2ls+qaPq62bXQT8/Kc/\n+tmcCdO2nbI4+lmfTFSzbSon2/QrL2TGiBr1PfXIFo2i2fSN6RUlBcjQihXik1FAxOtwTNdZx2D2\nmDB+wsiddtx5Sn08P65JsjmyYSonmwUjSQIFdmVXkyOiSYgkytXRy7wOxWwa62H6sNq62YOBgy46\n/+IZjbHl/qST9DokT1lisn5pR4kn0zBoiNehGNMl2hQuBc4Axnsdi+k663n7KLe49Yh5u+4xYPDg\nQUNX9oGzbbrCEpP1aw3HrdjV5I60oi2RIk07V3sdiuk663X7rkkiMv2075y2c0N8aYH2oeLWjbHE\nZN1aI0lfurLaPigmdwRjPmAuMMXjSEwXWY/bB7nFrccdPv+ImpKykqqW+EqvQ8o6lph8VTBzZVev\nwzCm6xS0NVqkaeeXXodiusZ6276pNhAIDDjqiKPn1MeXFHodTLayxGRN7ZEkgYICK3Y1uSUzWvIN\nYKrXoZiNs96lj6mtm10OHPyd408epAGnOB/vb9OdLDH5UspR4qk0WF2JySUK2mKjJbmib/eyfdMe\npaWlJQfsd+DcBhsl6RJLTL7UFo47PjsDx+Sa9piPzB2Ep3kditmwvt3D9jG1dbP7AXufddr3too6\n4UA4FfI6pJxhiUlGa9iKXU0OyoyWFGva+ZXXoZgN67u9a9+0b0V5RWD3ubvPbogvtdt7byJLTDIX\nUbNiV5OTMqMlOwPbex2KWb++2bP2QbV1s4cCu5560neHdyTbJZaOeh1STurriUkwksgUu4pd1sbk\nGBstyQl9r1ftuw4sKipK7b7r7rObkvU2SrIF+nJiknKUhBW7mlyVGS3ZEdjB61DMuvWtHrWPqq2b\nPRLY8aTjvjMo7kT9kVTY65ByXl9OTFqt2NXkKgVtiZTYaEn26lu9ad+1v9/vj+9Vt/euK5L1dsZN\nN+mriUlrOOlLV9VYsavJTcG4kBkpmel1KOar+k5P2kfV1s0eDkw7+ohjavA7RaFku9ch5ZW+mJhY\nsavJddocKdG082uv4zBf1Td60b5tTxFJHLjfgbvZKEnP6GuJSTDqFrsak6va40LmLJydvA7FrCn/\ne9A+rLZu9kBgl4P2O7isqLS4Ipho9TqkvNWXEpNU2i12tboSk8Pc0ZKrvI7DrCm/e08zD0gfcvAh\ntU0JGyXpaX0pMclc2dXOwDE5rCMuiMwERnodivlSfvecfVht3exqYPfpU6YnBw4YNLTV7gTcK/pK\nYtIaTvocK3Y1uUyB9pioo6d5HYr5Uv72mmYu4DvmyGNnrow3+hQ7fvSWvpCYtEWTOCVlXodhzBbR\nYLwIOAWwazdlifzsMfu42rrZZcCeI0eM6thu4pQpzYkV9u/cy/I9MWmPWLGryQPJNCTSPmB/r0Mx\nGfnXWxqAGUDRyd8+ZftAIBDYtmI7HV46Avvn7l35nJgkVxe7Wl2JyW3aFq3QtHO+13GYjPzqKQ21\ndbN9wL4i0jxx/KQJjZ8007q4Q6qdATqtZiZbV0zUUr8Nu/eWfE5M2sIJu7KryX3hBIhMBcZ4HYqx\npCQfjQcGzNt1j+riouKyaHuMcGuU+g+bZPkHK9Cgj20qJzOxcroOKh7mdax9Qr4mJq3hhBW7mtyX\nKXj1qaPf9ToUY0lJ3vElA2dJ2jdo/v6H7BxZGV2jeCsZS9GyOCiL366nY3lEBgeGM7V6R0aVj9NC\nn50x3JPyMTEJRpOkrdjV5AENxgqBkwDrCD2WH72jAWD32nkD/anA4OrimoFjR4/dNtQSXWchojpK\naGWEZe810vhpM4WREiZWT2fbyilaUzigt8PuM/ItMQlGkhRYsavJB0kHEikBDvQ6lL4u93tGs5og\nOwnScuRRRy2LdsRTTsrZ6DrxUIKmz1tlyTsNxFYk+XrJGLar2kG/XjYKX558PDqCHVz47Us4ZNaR\nHLrLUbz72ntrPP/Y/U/wrbnHccScYzlh71P55P1PAWhd2cqJ+5zG4bXH8Mxjz61uf96xF7GysXmz\nYsmnxCSZdkimHRgwyOtQjNli2hazgtcskNu9olltXu0eBcA3gaba2m/sEA8mNum8eyflEGwIyZK3\n62lZGJSyZLVOqZnJuIpJWhao6Jmge8mvL/4du8zbmftfvJO7nr2FUeNGrvH88BHD+etDv+fuZ2/l\npPOO54rzMleefuKBpzj0hIO45YkbuOvP9wDw3yeeZ/x24xgwuP9mx5NPiUlbOK6+wVbsavJAKAEw\nCRjncSR9Wlb0iCIyUkTe7eF9zBWRh3tyH5tCREaIyLe6cZMTgPLRY0YXDBg0cEikLbrZG4oEYzR+\n3CzLFqwg3QrjKiYyqXJ7HVLyte6LtpeE2kO89fI7HHDUvgAEAgHKK8vXaLPdDpNWL5u0/QRWLG/K\ntC0MEI3ESMTj+P1+0uk0d//lPo4946gtjitfEpOWcEKcqn5W7GryQ0fcr44e63UYfVnO9IYikjOx\ndtEo4Mhu3N5cIHLwIQdNCrdEVLvhMJGKp2hd2i6L31pO+7KwDPAN0ak1OzKmYrwW+oq3fAe9YNmi\n5VT3r+byM6/gqN2+zc/OuZJYJLbe9g/e8Qi7zNsZgD3nf5NnH3uOMw49hxPOOZb7bnyAvQ/bk6Li\nom6JLR8Sk2AkiVNS6nUYxnQL7UgUgn4bsFopj2RTTxgQkdtFZIGI3CciJSKyUESuFJHXgUNF5Fsi\n8o6IvCsiV65aUUT+ICKvish7InJZp+V7isgH7voHrW/HIrK9iDwjIq+JyOMiMkREqkTkQxEZ57a5\nS0ROdB8fKyJvi8hbInKru2ygiNwvIq+4P7Pc5ZeJyG0i8qKIfCwiJ7m7vRL4hoi8KSLf25I3bl7t\nHpXAdkDzjjvtOCPaFg9syfbWpgqh5gjL318hDR+txN9RyMTqqUyonOr0L8rueoJ0Os2H73zEIScc\nzB3/uYmS0mJuvva2dbZ97fnXeejORznzx5lbYZRXlPG7O3/Frf+6kXGTtua5f73A7vvO5WfnXMn3\nT/jhV2pTNkeuJybBSBJ/YaF14CY/xFPgUAVM8TqUviqbesFtgN+r6gSgHTidzBnkK1V1e+A5Mgfy\nXYGpwA4icoC77iWqugOZD9IcEZksIsXAX4B93fWHuNtbg4gUANcB81V1BnATcIWqBoEzgJtF5Aig\nSlVvFJGJwCXArqo6FTjL3dQ1wG9VdSZwCHBDp91McuPeGfixiAwFvg88p6rTVPWaLXzvJgOy/Q7b\n9ysrK6uMdcS3cHPrl4gkWbmwTZa83UCkISFfKxrJlOqZOqJ8LAG6NRfqFoOGDmLwsEFMnLYtALvv\ntysfvvPxV9p98v6n/Oycq7j6tquorK78yvM3/OZmTjzneB5/4F9M23kql1//Q/7yy791S4y5nJgk\n0w4pK3Y1+aQjXqiOHuN1GH1VNvWAS1T1Jffx7cBs9/E97u8dgKdVtVlV08AdQK373OHuaMgbwEQy\n9RXjgS9U9bNO21zXN7pt3HWeEpE3ySQcwwFU9SngPeB6MuewA+wG3KuqLW6bNnf5POB6dxsPAhUi\nUkYmEXpQVeOq2gw8Dczc5Hdnw3YD2vc/cP8p4dZ1nwbc3Zy0Q/uKkCx5p4GVn7dKSbxCJ/ebwTYV\nk7WioKo3QuiSAYP7M3jYIBZ9thiAl//7GqPHj1qjTcPSBi44/mJ++scfs9Xor9bNLP5sCU0NK5k+\nayrxaByRzFscj3Vf8pfLiYkVu5p8oh3xAuAYbArHE9n01bbzKIYAq85nDXd6XtZqoyIyEjgPmKGq\nQRG5CSjmq6Miq9cVkSeAQcCrwLXA+6o6a+2A3DqWbd0Y+gHL1xFH5+3vqKqJtbaxrte68XN1u2he\n7R6DgNEismjqtCnT2haH/N217a6KtseJtsclUOinfEApYwZtS1pT2pJcIcsii3s7nK+44Bfn8KNT\nLyeZTPG1kcP48TUX8/db/gnA/OMO5K+/vomOYAe/uODXAAQKAtz65JcDXX/8xV84/ZJTAKg7eB7n\nHfsDbr72Nk676DvdGuei8KcyomyszpkwUJ9d0CSJLpzSnQ1awwnpV1WjYp24yQeJNDhOCT7/TOBl\nr8Ppa6RbKiK3NIhMYvE5MEtV/yciNwALgDOB7VW1xZ3yeAnYHmgDHieTUCwCbgWmkUk03gYuJDPC\n8jGZaZbPReQuoFxV91tr34XA+8Ax7r4LgK1VdYGInAdsTWaU5bdkpl/GAf8AdnbjqlHVVhG5A3hT\nVX/tbneqqr7l1rgcAOwElJMZzdkRGAZcrapzt+S9m1e7xzeBI2bNnhW/+IcXn1i/oMn7W3ALlNWU\nUDm4XAuLC6Qj2a5LIwsl5kS8jiwnjCgbqxUFNeRKYjKwoohpW1Wq79//t9GkRMZtC8NGOVIfyq3h\nINOnSL+SFNUlfxafnOF1LH1NtnQMCnwEnC4iC4Aq4I9rNFCtBy4iM/3xFvCaqj6squ8AbwIfkpnS\ned5tHwdOBh51p3YaWUdNiTuycQhwlYi85W5rZ7fA9UTgPFV9HvgvmdqVBcAVwLNu+9+4mzoLmOEW\nwL7v7nvVa3vHjfsl4Ceq2uAuS7vFsptV6Dqvdg8hM23UPG+P3SdEg7Hs+PdUCLdEqf+gSZZ/2ATt\nft22ajsmVk53BhYP9Tq6rJdrUznBqBW7mvyiHYkAmbMjs/8/YJ7JipGSfCYilwIhVf3NRhtvonm1\ne4wALgUW3//P+86KrkjUxEKJja3mCfEJ5f1LqRpSjvh9BJMtujS6SFJOdsabDXJpxGSPyUPxv/4S\nNDdtsJ2NlJhcISNrQhLwzSEzum16iXUMvaOnMr9pgDN+2/FVZeVlFdmakEDmfjsdTWGWvttI06fN\nFMVKdXL1dMZXTHGqC/t5HV5WyqURk2DEil1NngnFC9ee7jc9L7t7ujygqper6tXdvV136mY20PLN\nvb45LtwazZkhr1goQdNnrb6l7zYQb0rJyNKt2a5qB/1aaf7cb6e75Epi0hJK4lTblV1N/tBwshBH\nD/M6jr4me3s5szFDyZwRFJk+ffqkeCjpfYHrJkonHYINHbL4rXpaFgWlMl2jU2pmsnXFRC0NlG98\nA31ELiQmwWhS0iVlXodhTPeJJkFkLGC3Tu9F2dnDma6YAFBVVVUwZNjg4dH29V86PRdE2mI0fLRS\nln+wAqdN2KZiknu/neFeh5YVsj0xCUYSBAoLrNjV5JdYMg7s6XUYfUn29W6mq3YBgnV7142KdsRS\nms6PkfNkLEXrknZZ/HY97cvDMtA3jKnVOzK6PHfut9NTsjkxSaQc0mmFfval0uQPDSUqNO0c6nUc\nfUl29WymS+bV7lEFjADaZ+wwY+tEKFXodUzdTR0ltDLCsvcbafykmUC4aNX9drRf0UCvw/NMNicm\nbZG4+gbbKd8mj4STILI72XWh0byWXb2a6apx7m8dPWb02HgokdfD5vFwgpVftMqSdxqINCbYqng0\nU6pm6oiyMfj6YF+RrYlJaziJU12TH0N2xgCkHUg5aTIXvDS9IHt6NLMptgdiQ4cNLSkvL6uIR7L3\nVODu5KQc2htDsuTtelYubJPSRKVOqXHvtxPInvvt9IZsTEyCkaQ4pVagbPJMJFG8pVfeNl2XHb2Z\n6bJ5tXsEyFyfpGXX3eeOiHREUz12FZQsFg3GaPykWZa930iqRRlbsS2Tq2bosNKtvA6t12RbYtIW\nSeC3YleTZzSaLMTRvb2Oo6/wviczm2o4mfnN1NRp08Ykw+m8qyfZFKlEmtZl7bL4reW0LQlJPx2k\nU2t2YmzFtlrsK/E6vB6XTYlJIuWQdhRq+nsahzHdKpoCn0zH6kp6hSUluWc07t1Yx4wZPTYWits3\nU0AVwi0Rln/QJA0fNiHtBWxbPYWJldOcgUWDvQ6vR2VTYhIMx1Ws2NXkE0ch5SSBKV6H0hdYUpJ7\npgKhocOGlpSVl1Ukwkmv48k6iWiS5kVtsuTtekINMRlaOIIp1TN1ZNnWBCQ/v+xkS2LSEk6iNXZl\nV5NnIskCVa31Ooy+wJKSHOLWk2wLBHfdfe6ISHs05XVM2cxJKx0rwrL03QaaPmuV4niZTq6ZwfiK\n7Zyqghqvw+t22ZCYBCNJSVuxq8kzGk0W4+g+XsfRF1hSklu+BviB9JSpU0anIn27nmRTxDrirPi0\nRZa+20hiZVpGlY1ju6oZ+rXSkXl1vx2vExO7sqvJS9EUiOyEHTN7nL3BuWV1PcmIESNGxiNJ6/w3\nUTqZpq2+Qxa/XU/L4g6pcvp3ut9Ofty7xcvEJL662NXu/GzySNrJ1JbAeK9DyXeWlOSWqUCoqKjI\nV92vul883DeuT9IjFCKtUeo/bJLlH6xAgz62qZjMpMrpzuDiYV5Ht8W8TEyC4YQVu5r8E0spmWtE\nmR5kSUmOcOtJxgPBGTNnDErEkml1rJ6wOyRjKVoWB9377UR8gwLDmVq9I6PKx2mhL3dnyLxKTFrD\nCdGa/vbhNHlFY8kydXQnr+PId5aU5I6huPUkB80/cPuiIn/BoDH9qBxcTqCwb/wzxuMxDjp+P/Y5\nso5vHrYbv7z+yq+0+Wzhp8w/4QDG7zKWG27/8+rlza3NHHrSwex5xDz+9ewTq5efcv6JNK1cAXS6\n3857jTR+2kxhpISJ1dOZUDlFawpz80ZzXiQmbdEkTkl+TIUZs1o8LajO8jqMfJef50fmp2G49SQl\nJYUlvuhyKSGuJQMG0m/4YEEdUsmUJmIqsVCCSEuUVCLtccjdq6iomDv/dC8lxSWkUikO+87BvPrW\nK+wwdebqNtVVNVx6/k/WSDwAHn7iQY4+5Bjq5u7JCWcfxx5z6vj3f//FxG0mM3DAoK/sKx5K0BRK\niC8QpGJAKV8fPIatSkZpW6pZloYX4uD0+OvtLovCn8qIsrE6Z8JAfXZBkyRSPRt7MJLAX1QoNlRi\n8ko8BSLbkPkynzsdQI6xpCR3jAOSAIMG9h9M8D0k1vRloWtBBYHifuIv6qcl/QfSb9ig1YlKMgax\nUFzCrVFS8dxOVEqKM1dpTaaSpNNpqiur13i+f01/+tf05+kX/rPG8oKCAqLRKPFEHJ/PTzqd5qa7\n/8aNv71pg/tzUg7BhpAEG0KUVBVL5eAqnVIzUyKpkC6NLpJwqqN7X2AP6c3EJJ50cBxFamqgtbXH\n9mNMr3IUVB2QUcBnXoeTrywpyRFCepri6wgECqSyul8NwbY1GyQ7INmBdCxaM1EpqhF/UT8t7j9Q\na4YNFFRJJVNOMoZkEpUYqXjuXO7EcRz2O3ovFi9bxFHzj2Hr0eM2vhKwf92BnP2jM7nrH3dw0VmX\ncNt9t3DwPvMpKiru8r6jwRjRYEwCRX4qBpYxbuBEUumkrkyukProks19Sb2mNxOTYCTh1Awe5lNL\nSkw+iafSlBZOw5KSHmNJSQ7Ye+5OZQU+3VmRmtGjxydT8TCFTheu5LoqUQkt7pSolBMo6uf7MlEZ\nsCpR0WQcYh0JCbdFScWyM1Hx+Xw8eucTtIfaOf7Mo/nf6y+x0/Y7b3S9ivIKbvztzQAE29v4483X\n86df3cAPfnYh7aF2TjrqZKZNnt6lGFLxNK1L26VtWTtl/Uql/+DBOrhmmHSk2nVp+AuJO7EteYk9\nqrcSk5ZQwldTbacFmzwTS5VrScEOInK/16HkK0tKcoDflxwALFClceq0yTtqPLj558onQ5AMrSNR\ncUdU+n2ZqKSTKScRR+KhhIRboySzKFGpLK9k1112490Fb3cpKensuhuv4YwTzuKhx//JzOk7sudu\ne3PaBd/h5utu36TtqEKoOUKoOSKFpQVUDipjQr+pxFNxZ0V8me//2bvvMLnK8v/j7/tM3ZqtyaYA\nodcQBEFEimJFjcBPQQUbTQSlSJEuCBbgqyIoIIQOAlJCYCgBCYQlEEogIQklkJDeNtm+0885z++P\nMxtmNz3Z3Sl7v64rV3bPnJm9Z3fKZ55zP89Zk2zaotsbKAMRTNrjaezqcuPL9EEpVQxMwrbENYfi\n04d1f9FQUhgaABEhteseexEw0b6dRrE2qCz57JnmL8MXrrHCoRoTrq43VcPrBANOOu2mkkaS0bQX\nVAZwpfuWthb8Ph+VFUNIJOJMfetVzj71t+vd15j1t1kuWLyAptWrOGj/g/ng4w8IZw7fJJLbNrqR\nin22DVIAACAASURBVKVZs7BNWpa0U15bKiMbRjOyZLRpS7fIsuhCbPIn0EH/BxNvZVdtdlVFJu2A\nyK65LqOYaSgpDDuB9642auTIBsvu6v+5nXYUuqLrCSrVXlCpqjdVDbWCEZx02k2nsBJdaWKtMVL9\nFFSa1qziwqvOw3VdXONy7Le/z5cOOpQHJ3gjHCf8v5+wek0Tx/z8u3RGu7Asi7sfvosXHnmJslJv\niurfb72eC359EQDjvnk0v7rgVP5978389lcX9EmNrmPoaIpKR1OUksqQVAytMGNqPi9xO2aWxxdL\nR7pt0zcyQPozmCTSLq4BGVIN7dpXoopE2gWhBggByVyXU4xkQ58oVf4Yd+QBvweqgI77Hnn6zKr4\nB/UkVue6LI+/DMLVmGA1lNQbCVULkgkqSaxkNE20NU4qNnjPZuwL+qioKzWVQyvEMbZpSa+WZbEl\n5Muswh3KdjEVgWr6OpgcvEutqW5aLGbuB2u3yW57wogdXVkxAMFaqX4go6s6xe87GPhgU/uqLacj\nJXlu3JEHCDASaAIor6yuoiOPpqF2j6iwFLr7B/yl+ELVlhWqIVRZb4YMrRnUQcVJObQt75S2FZ2U\nVZVIVUOdGVo9XLrsDrM0tlDiTiyn9fXXiElrNCXV1bV9cltK5Y2U6+L37YqGkn6hoST/VQABwGkY\nMarEsiwLJ39ndwBgx8COIdFlsN6gUmeGDK0WxMJJp006iSSjaWJtCYr6fD4Goq1xoq1xCZT4qagv\nY4/afUk5KbM6tUKaEityVlp/BJO2WBq7qtz16crRqpik7BJKA9pX0k80lOS/WsA7PeVeY2qdRIdt\necvNF5b1BRVfCb5wtWRGVNwhQ6stL6jYJp0ykuyyibXFizKopOPe+XZal3ZQXlMqDcNHMSK8Pe3p\nVrMkvlBsd+Dvc18Hk/ZYGl9wkJwDQQ0aJuUEcdyx4tOHdn/QUJL/asm8iY/eadda0p3FMxfNiUM0\njkSXQ/enaV8YX7gmE1Tq3CFDa6zuERU7BYmoLbHW4gkqxjV0ronSuSZKuDxIxbAyM6Zqf0nYcXdF\nYqnVlmoe0Hr6Mpgk0g4GkCFVrLPYn1KFKu0C7N1XNyciXcaYchEZAdxojDmuD25zB+AQY8xD214h\niMhVQKcx5m99cXsbo6Ek/zWQGSkZMXK7Wr/TFchxPf3LSUB0+fqDSrDaBMvr3SH11Rbix7XTJpU0\npKK2RNvjJDsLO6gkulIkulKWL9BOeV2ZjB62C27JTqbVXiPLoosG7Hw7fRlMOqJJU9UwQoyGElUs\nvGnBO/bhLRoAY8xyYJsDScaOwAlAn4QSMjUOBA0l+W97IA5QX19XK068eEZKNtdnQUVYe+gnhBWq\nkVCoxoTK69zKuhoLywsq6aQhGbUl1h4nUYBBxUm7tK/olPYVnZRWhaVyWLUZWz1MonaXWTZA59vp\nq2DSEk1Lla7sqoqJ7YJQCQSBPnuBEZHRQMQYM0ZEfgF8DygBdgaeMMZclNnvG8BVeNOS5wMnGWOi\nvW7uWmAPEZkB3AP8O/PvALzlJc4zxkwRkTBwa+/tm6hzv8xtlWR+/snGmDYRmQK8AXwFb7boKcaY\nqSJSmqlhb2Au3sllf22MeWd9t6+hJP+NAmIAFZWVldi65gMAThJiK5DYinWCSjBUbYLl9aayrkZ6\nBJWYLbG2BInOwlleINaWINaWkEDIT/nQUnar25u0kzZr0qtkZXxpv/7svggm7bEU9vDyAmyCUmoj\nXBPHJ8OBRf34U8YC++EFn7kichPe2iiXAV81xsRF5CLgPOCaXte9CLjAGDMOQETOBxxjzL7inen4\nBRHZDfj1erbvaoxZX9jqHi25Dy9UvCoifwCuBH6budxnjPmCiByV2f514Eyg2Rizt4jsDcxkIyMv\nGkry2LgjD/ABw4BlAGVlFRW0x3NbVD7rGVQ8vhBWqFqCoRqCZXWmsrZGsGq8oJLyRlTibQnieR5U\n0kmb1iUd0rask7KaEqkfNpyGqpF02O1maWyhpPrpfDvbGkzaYml8oVC/1KZUztiujc8aSf+GksnG\nmE4AEfkAGA1UA3sBr4sIeKM1r6/nur1H1L8E3ARgjJkrIovwzjy/vu27A7PXV5CIVAJDjDGvZjbd\nCzyatcuEzP/vZurt/tn/yPyM90Vk1sbutIaS/FaZ+d8FCJWUltCsoWSLOEmIrURiK6H7iWoFscI1\nEgxWEyyrXzeoxDJBpSP/gopxDV1rYnStiREqC1IxtIy9q/cjaSfclcllVkuy7xfV25Zgkkg73heV\nQ6Cjvc9rUyonbFcIMbKff0r2C5DDZ+/X/zPGnJC9o4gcBNyW+fb3QMd6bm9Dh/7X2S4ifwS+Axhj\nzMbOVNr7ut01Z9e7sZ+9Dg0l+a2CzDBXOFzi8/mDAZz8e6MsOG7qs6DS9mFWUKmWYLCGYEmdqayp\nEXw1uGkvqKRijsTa48Tb8+f3n4ymSC5IrT3fznbDdmS78I6mzWmWJV2LcPvwfDvbEkzao0mqGkZg\nNJSoYmG7QbzeiIFk8Ho2bhaRnY0x80WkDBhhjHkL+Fz3jiKyP977R7dXgROBlzOHbbYHPtrQdmPM\n5cDlvX6+GGM6RKRVRA41xkwFfgpM2UTdrwHHA1NEZC9gzMZ21lCS39Y+qEZtP7rMTSdsn7eQmupr\nbgpiq5DYKlg7ohLo7lEhUFLnVlTXWvizgkrckVhbgnh7bhezc22XjlVd0rGqi5LKsFQOqzRjaz4v\nsXTULI8vlk67b8LA1gaTlmiKKl3ZVRURY7shjBmeOYSyzTe3nq8N6+m7MMasyTTBPiQi3cdFLwM+\n6bXrLMARkZnA3cAtwK2ZQyc28HNjTFpE1rt9E3X+HPh3poF1PnDSJva/BbhXRN7HC0LvAxt8UdJz\n3+SxcUcecDDwS2Dx4Ud+c+Q5557308CKF/UAfS5ZAQhVY0I1mHCda4VrLfxBXDtt7JQhGcuPoOIP\n+qioLzUVQyvEcW3TnG6S5bHFfXLbW3qunIaqEsYMLzW+lyaJnvtGFYXKEFJb+rD4rB/nupR8JyIW\nEDDGJEVkZ+B/wG7GmPUO5epISX7r7ilhWMOICmztJ8k5Nw3xJiTehHSvo2IFsELVEghV4w/VuRWj\nay381bi2beyUSzLmSLw9Saxt4P5+dsqhdVmntC7vpKy6RKqH1Zuh1SO88+1EF0jC3fpatnTEpD2W\nwhesHnxT2fOI4zgcdOzXGNkwnKdufxCAf903nlv/cxc+n49vf/nrXPu7K9e53k333Madjz6AMYZT\nj/8pZ//idAAuvv4PPP/qS4zdcx/uuf5mAB548hFaWlvX7lPUvMf8qFyXUSDKgJdEJIA3Cn3GhgIJ\naCjJd/Vk5sFX19aViZvQT5f5qEdQmZsJKv61s378oTq3Yodai52rMyMqrknFHCvekSTaFu/fZYkM\nRFviRFviEiwJUDG0zOxZO1ZSdtJtSq6wVidXbtXNbkkwiacyza4VlRvcR/Wvm+69jT132Y3OaBcA\nL7/xKk9NnsTMpxsJBAKsbl6zznXmfPwhdz76AG9O+B8Bf4CjTj6e73zlG9TV1DLjg9nMiLzCLy87\nlzkff8jO24/mvgkP89xdj65zO0XJNeC9PqtNyMwgOnBz99c3ufxWRyaUlJSUhiyT1r9XoXBtiK+G\ntrlYq16zWPgUzJ+AtXKqBGMfWqWhFrd++zCj9x/BDmPrzYg9a9260dWUVZf027MyFU/TvKjNWvze\nCrpWJKzhwe0ZW3WQGV22K34ruMW3tyg6TzrTrRyxV70J+jdedEcsZaRhoPsCFcDSFct57pUXOeX4\nn9B9uP7fD97Dxb86h0DAa1Grr61b53ofzf+Eg8buTzgUxufzccRBh/DEC0/jsyxsO40xhlg8TsDv\n52933MxvfnYaPt8gWZHGCyVluS6jGOmbXH6rJTPFqqSkNGjhDJJnfJEyNiRWQ9vHWKtet1gYgfkT\nkJWvSjD2oVUWXOPWbxdm9Od6BZWavg0qxjF0ro6ydPZKVs9vlVCizIyp2p89KvZ1hwS2bPXVzQ0m\nLV0pMdW12sCWA+f9+XKu+91VWPLZ32fewk959e1pHPKDb3Lkid9j+uwZ61xvn932ZOr0N2hpayUW\nj/HslP+xdOUKysvKOeqIr/H5o49kxNAGKssreGvWu3zvq0cN5N3KLdeAN/NF9TE9fJPfqsnMNy8p\nLSnB7bspnipPGBsSayCx5rMeFfEhoWoJhqolEK5zy0fVSv2O1WLstEmnXNJxV2IdCe/QzzaeDifR\nmSTRmRRfwKKirkx2HLYrrnFNS3q1LI8t3qzz7WzOoZz2eBp3eIXxtbVob8kAevql5xlaW8fn9t6X\nKW9OXbvddmxa29t5/bHneXvWu/zo7FOZ93LPVb/32HlXLjztbL510g8oKyllv73GYFnen++C087i\ngtPOAuCXl53L1edewh2P3M+Lr01h39335tIzzxu4O5kL3khJONdlFCMNJXlq3JEHCFAOtACUlpSE\nNZQMEsb5LKi0f5IVVKokGKohEKo1paPqpH7HaoydNnbaJRV3JdaeINYWx2xFUHHSLm0rOqVtZSel\nVSVSOazG1Fc3SNTuNEvjiyRmd230+psKJm2xFFawWkdmB9i0GW8TmTyJ5155kUQyQUdXFz+74AxG\nNozg2G98B4AD990fy7Jobm2htrrnSNnJx53IycedCMBlf/sj2w3vuV7YjPe9xTl323FnLvnrNTx3\n1yOccvHZzFv0KbvssNMA3MMccQ0IYbzGTR0B7EMaSvJX93okmcXTwmGMLj41aBkHEs2QaEb4xPu4\nmgkqmVk/pnRULbJjtRgn00wbd61YR4J4axx3c4OKgVhrnFhrXAJhPxX1Zexetw9pJ2VWp1fKqvjy\nDV51Y8FkbbNrSD9cDqQ/nX85fzrfWwPrlTdf42933sx9f72V2x66h5ffeJUjvvAlPl4wj1Q6tU4g\nAWhqXs3Q2noWL1/KxBeeYdpjL/S4/Mobr+X2P91AKp3Gcby/sWUJ8URup8QPEAcoBXqfDE9tAw0l\n+StI1uB8KBQK425oTRs1KPUIKvM+CyrBIRII14g/VGtKR9Yho7ODirHiHQlirbFNBpV0wqZlSbu0\nLuugrKZEhjaMZHjVdrTbbWZZbKGk3HVXt91YMOmIpUxV5RDRj5W5073Y18k/OJFTLjmbsd85jGAg\nwD3/503rXb5qBb+87Lc8fcfDABz/m5Nobmsl4A/wrz9cT2XFZ4uEPvnisxw45nM01A8DYL8992G/\n7x7OvnvszZjd9xrge5YDxqQRqUBDSZ/SxdPy1LgjD6gFrgeWANz90JOn16Y/biDelNvCVOERC4JV\nEK7BhGoN4VokWN4dVEgljHhBJYHrbDypZM63Y8qqSySRjptVyWXSklp3OukOZbuYCn+VvPLhGrqD\nyR4jKs1O1SExNrp4mip4Mrq6S/zW/qy7mqraBjpSkr+CZB2rDAaCQZLaU6K2gnEh2QLJlqwRFcsb\nUQnV4A/XmtLhdVK3QwPGTpNOu8ZOGOleR8XNGu3IPt9ORW0p2zXszKiSHWmzm1kaXYSLN4S/KDpP\nti/d2RyxZ93aYNIeS4tbX4bY+jhWRcAYF6/vT/Whrfq0IiIb73rrue8RIvLFrfk5G7i9c0WkpK9u\nr9dtHy0ie2Z9P0VEDtiG29uW6/dYOMLn9/sxztaWUpDaOqIcd9YN7PWt89n7qAt4Y2bPDyT/eWoq\n+427iLHjfsehP7qSWR95ZxFf3dLBYT+6in2/+zuefHH62v2PPeNvrFzdNqD3IW8ZF5Kt0DEfaXpL\nZPGzMP8xZMUUgp1zJCwrqGmw2H5sAzvsN5SRe9e6Q3euoaK+DMtv4dou7au6ZMl7K2he2E5paghj\naw5kt4oxptzvLZK2ODZfOtKt5og96wj6LdpjKWTzTxaqVH4zGHRZjT63tSMlW3LM5ytAJzCt9wUi\n4jNmi99pzwHuB/pjze5jgQjwYeb7bT22td6TKm2mHue4ERFhkB1qO/eP93LUEfvx6D9/i207ROM9\nexh22m4orzx4JUMqSpnUOJPTr7iDaY9ew0NPv84ZJ36dY79+IN857TqO/trnibz0Dp/bezQN9VU5\nujcFoDuoJFuxmJ/ZaCGhSgKhGssXqjUlDXXUbt8gxrGx046bTmDFOxKsWdCK5RMq6srYdehe2K5t\n1qRXyeLYp7J96U5095gAyBacxlypPKehpI9tMpSIyBPAdnhzsm80xozPbP878A1gJfCjzNkLzwZO\nxzvb4PvAJZnvHRE5ETgbOBVIAPsBU0Xkv8CNmduPAycZYz4WER9wHfBNvIbP8XgvZiPwTrO82hjz\n1V61/gI4Bq8jelfgb5nbPQFvEbJvG2NaMycF+hfeMsEx4DS8hcrGAYeLyGXADzI3e1zmTIpVwCnG\nmKkiEgZuBQ7I3NfzjDFTMiM4dwP74p0NsYStfwEO9riuiAymmWftnTFenT6Xe64/EwC/38eQitIe\n+3zxc7ut/foLY3dh6coWAIIBH9FYgkQyhc+ycByXm+6dROT2CwfuDhQNF5JtkGzD4tPM41GQ4BAC\n4RrLF6oxJQ311G4/TIzjYKdsEp1JAKkLN5hh1SOkM91hEk4XR+xVb5K2o4s7qCJhQAN2n9uckZKT\nM2/kJcBbIvI43vK6bxtjzhORK4ArgbOAi4DRmVMiVxpjOkTk30CnMebvACJyCl6w+KIxxojXvXyY\nMcYRka8Bf8YLBL8EtgfGGmNcEanO1HEe8GVjTMsG6t0bL/CU4J1W+UJjzP6ZEPUzvAB0O3C6MWae\niHwBuMUY81UReQqIGGMmZGoF8BljviAiR2Xu59eBXwOOMWZfEdkdeEFEdgPOALqMMXuJyBjgXbY+\nSfQ4fCMMrlCyYEkT9TUVnHzxv3nvo0Xsv/eO3Hj5zyktWf9Jku98bApHHbEfACeM+xInnvcvxv/3\nJa773Qnc/J8X+OkxhxEObflS6mp9DKTaILW+oFItvmANUlJvJBQUjMuQYLkgfoxr8AcNOINsyE8V\nMx0p6WObE0rOEZFjMl+PwhuBcIH/ZrY9AEzIfD0LeFBEJgITs26jd5p81Hw27acKuE9EdsF71+2u\n6avArcZrJsIY07oZtRrgZWNMFIiKSBve4RiA2cC+4i0NfAjwaPf0OHoGgN61dt+3d4HRma+/BNyU\nqWuuiCwCdgMOwws9GGNmi8iszah5Q3ysM1IyeNiOw7sfLOSfvz+JA/fdmXP/dC/X3v4UV59z3Dr7\nvvzG+9z92BSmPnwVAJXlpURu/x0Are1dXHvbk0y4+TxOu+x22jtjnHfydzh4v10H8u4MAtlBZQF0\nH6UJVUHVblA+CrF83gNaRKcFq8LnPYgH1evyQNhoyhORL+OFg4ONMfsBM/lsaV3J+r/7NeY7wM3A\n/sDbmUMw6xPL+voaYLIxZgzwPbwRjrUlbKK+Y0Rkhoi8m9VQmt144GZ97+IFHgtoNcZ8Luvf3lnX\n6f162X19h54hbkO19dWDtPftDKrX8VENtYxqqOHAfXcG4Aff/AIz3l+wzn6zPlrELy8fz5P/voDq\nIes2wl9z8xNcduaxPBh5jcMP3JN7rjuDP/zzsX6vf3CyoGw7GHoQ7nbfxOx0DGz3dUz5CFzTaWAZ\n0AFBPYWTKho6UtLHNvULrcR7A09kZqUcnHW97p6LE4BXxfskv70xZgpwMTAEb7pUJ1DBhlUC3ctE\n/iJr+/+A07uDjYhUZ7Z3Zq6DMWZiJlTsb4x5h40HAslcpxNYICI/yNyuiMi+vW97E14FTsxcfze8\nw0wfAY14vw9EZB+83pKt1eO+GOOtazxYNNRXsV1DLR8vWAHAi6/PYa9dR/XYZ/HyNXz/Nzdw/19/\nzS47NKxzG58sXMGKplYOP3BP4sk03WNN8USq3+svfr0DyLGwyw8wDZ/HLRuCFepCrIXAe4jMwbIW\nCDQBcbDE+6dU4dMHch/b1OGbScCvROQDYC6fzaCJAgeJyOXAKuCHmdu6X0SG4P2hbjTGtItIBHhM\nRL6H1+gKPT/1Xw/cm7mtZ7IuuwPvkMgsEUnj9YHckvl/kogs693oyrqzXXp/3f39icCtmZ8ZAB7C\nO/T0MDBeRM4C1j1O8Nn1b8lcfxZeo+vPM300twJ3Z35fHwLT13Mbm6vng30QrnJ30xW/4Cfn/4tU\n2mbn7Ydx519O57aHXwTg9B99jav/NYHWjihnXnknAAG/nzcf/+Pa619xwyP86fwfAfDj7x7CsWf+\njetuf4qrzzl+4O9MQfND+QgoG44JVbkESkUkIJDGuF2uZXVZXuCIIeKywfHRbq6BsB9iukKxKnga\nSvqYruiap8YdecDBeM2+iwEenvjib0tbp1WS6shtYaq4iR/KRq4NIBIoFcQvmLQxpsuIFbO8zyRx\ntu4UxcOB4ZjmGLQNivOjqCIl21e1S9D3DeCtXNdSTHRF1/zVIy06ju1s+iOoUltA/FA+EkqHY0JV\nRgKleAEkhSFqRDosb8Z/HMQV6cOVz0zYb3S9ElXQvOeDnvemj2koyV89DkXZ6VQKS/9caitZfigb\n5Y2ABKtcCZRkRkBSxtCFSId4ASQGYvp1gTM7nTD+cFBn4KjCZomPnpM2VB/Qd7n81eM1O5VKpRD9\nc6nNYAUyAaRhAwGk3fJ6y+MgZsDnmjvpuPGXhAVLvP4SpQqRiIWGkj6n73L5q8erdTKZTFIayFUt\nKl9ZQSgfBaUNmOCQrACSNIYoIm05DSDrZcB1bCNhv2izqypYgh89fNPnNJTkrx7zVhOJRIJy/XMN\natkBJFTlir9EEF9+B5ANcNJx/EGfzsBRhSxA/5yDbVDTd7n8lSJrtCSRiCew1r/EuipCVigrgAzp\nFUC6jEir5S1Glv8BZH1SyXbxheu12VUVJu9Ra+Mtqqn6kIaS/NVjpCQWi8ew1l2xVBUBKwTl20PZ\nUO8QjL/EQnwYkzSYLiNWqwVLgUR3ACn4N/JkVzNlw0dos6sqTN6pyFKF/0zMPxpK8lf2cvnE4/GU\ni8+1dFnjwmaFoWI7KB2GCVZmBZCEgS5EWiyvdy6BiBH6cBpuPknFWsGy0GZXVZB8ApjOIvh8kHc0\nlOSvFFmP+Hg8ljLid9FQUjh8YajYHkqG4QYrXcsf3kAAidOXa4AUCtexjYT8Qlz7SlSB8VlgaM51\nGcVIQ0n+6nH4pr21JepaIcenf7P85C+B8u0wJUMhOMSVtQEkbiCKJc2DOoCsj23HCYR8aChRBcdn\ngXeKFdXH9A0ufyXJGilpalrRZXwlG9ldDRh/6doAYoKVrhUoscDKBJAuRNZkHYLRALIhdqJD/OE6\nbXZVhccn4HWaqz6moSR/9Th8s3zpkk4rUKqHbgaavywTQOohlBkByQoglgaQrZaINlPaMFybXVXh\n8VkGSxbluoxipKEkT0Veescdd+QBScAHOEsWzu/0BUr079Wf/OVQMQoTHmoIVSL+sPQcAVmtAaQP\npaIt2uyqCpL4raSI6OGbfqBvcvmtDQgC8a6uTtt1bcdnBf24qU1dT22KvxwqtsOU1BuC2QEk1h1A\nxFusMakBpB9ps6sqSH4rhfaU9AsNJfmtBRhBZtXAZCIWL/WXVJDSULJFAhXdh2AMwUoj/pDVM4A0\niTcCogFkgKz9HdtpbXZVBchnGaAp12UUIw0l+a0ZGN39TTza1VXqD1eQas9dRfkuWAll3QGkIhNA\nJOsQzCpLA0humazTOtmpTgmEa3WquyosfssHrMh1GcVIQ0l+a8I7fANAZ2dHR21FyfAc1pNfgkOg\nbFRWAAlbQGYEJKoBpAAku9ZQ2tBgaUeJKig+KQEW5rqMYqShJL+14jW6AtDc3NKyQ3Xl4Hx3DVZB\n+ShMuG49AaQLkZWZAJLSAJL/1v59ktEWb80HbXZVhcJvgaEd6bnqtuobGkryWyfgdn+zfNmSNWN3\nOyjt985OWbyC1VA+EkrqMYEK1zsEowGkaPTKHq5tGwn5hLidm3qU2hIBC4xZrMvr9A8NJfmti6yX\n8EUL5zebwFfdjexfeELV3tlww3WYYIUrvu4AEjUQFZEVGkCKnGPH8Qf9aChRBSHgA/g412UUKw0l\n+a2TrDg+94M5zVao0reR/fNbqNYbAQnXYYLlRnwhge4A0pUJIFEgrQGkmAmGrMd1OtkpvnCtK+3a\n7KrynwR8DpbMznUdxUpDSX5rJ2tWwuKF87vE8gtWANw8n0IZroWyURCuzQogBmNiLnRZIssz03A1\ngAx2ya5mbXZVhSPoi4nI/FyXUaw0lOSxyEvvJMcdeUAbEAKSxhiina3tFYGKGpItuS7vM+E6KB/p\nNaEGyhFfMBNAug/B9Agg+mlY9ZCMNmuzqyocAZ8LfJrrMoqVhpL8twwYhXeCPlqa16ypKM9hKAnX\newEkVGsIluONgLgYEzUiUfHK1REQtWHre1gY2zZos6sqBH6rBJiX6zKKlYaS/LcE2A1vyXmWL1++\ncvu9hu06IGdWLRkKZSMyIyBlPQKINwtmWWYpdlsDiNoSPXpKAGw7oc2uKv/5LfAmIDTnuJKipaEk\n/y0lawrwsqVLmu0xu6QDWYuq9YmSYZkAUmsIliFWSMDpPgSDSGvmEIwGENX3vGbXGm12Vfkt5Adj\nZut04P6joST/NQNO9zfzPv5gNUcfs20H3ksaegWQYHcAcb0eEA0gamAlu5opHTZMm11VXpOQz8WS\nqbmuo5hpKMl/zWTF8hnT32jyhysCiA+Ms5GrZZQ2QNlITKimdwDJTMNtISuA6KdUlRPJaIs3NK7N\nriqfhQNdIvJurssoZhpK8l9r5n8BTDwWc6KdbR3lwcoqkq1Zu1lQmjkEs04A6crMgmnGCyCOjoCo\nPONqs6vKfyGfH5iZ6zKKmYaSPBd56R173JEHrAFK8BIFq1YuX17esFMVSCaAlGYCiN19CMbSAKIK\njW0n8Ie02VXlKUtARIAFuS6lmGkoKQyfAvuSCSVYQWHIThi3w0WilsgasgKIHoJRBclOdoovEYg/\naQAAIABJREFUVOMK+hhWeSjkA2M+BtHji/1In/yF4WOgtPubpx5/8PV0OpoU61NLZBXeavSb0V+i\nVB5LdDVjhQP6mqTyU8gPItNyXUax0xeAwrCcrLMFv/H6K10+X2lAp6WpYrK22VX0ca3yj4T9UbHk\nrVzXUez08E0hsKzViIzCsvbAsobE7bQ0N69K1deXhr3Fy5QqBi7Gdrxm14T2lag8E/K7wIxcl1Hs\ndKSkEPh8rQSDnfj9y/D5XsDne7SpadUHUJbrypTqU7adMIT0s5LKMwL4rTDwQa5LKXYaSgpA5Pk3\nDJY1OTNi0oEIc+d+tDidDqdyXZtSfclOdlgm5HM3vadSAyjkB9csAvQ1t59pKCkcH+JNCwZgxoy3\nl4qU68F3VVQS0WasEm12VflFSgMOIk/muo7BQJ/8hWMJ3onMAJg9e2aLiE+0LUgVk2RXd7NrritR\nKktZMCqWPJPrMgYDDSWFYxneS7UAuK5jVq1avhQqcluVUn2qu9lVw7bKE5ZA0BcEXst1KYOBhpIC\nEYk0JvCmBq9dr+Tdd9+ZY9vl6dxVpVTf02ZXlVdKA+CaN9F+kgGhoaSwfAhUdn/z8svPz7OsKh3o\nVkXFTnVqs6vKG1IajIvPeizXdQwWGkoKy8dAsPubTz75qD0Wi3Xp1GBVTLTZVeWVsoABXsh1GYOF\nPvELy3yyml0BPvrogw+NqdBzMaiikexs1mZXlR+CPhCJAp/kupTBQkNJAYlEGluAFUB597Zp016d\na9sVeqxTFREX42izq8oDpQED5ll6fRhU/UdDSeF5A6jq/mbKlBeWWFbY0qnBqpjYaW12VbknZcFO\nsSxdn2QAaSgpPO+TNbCdTqfdZcsWLYQhuatIqT7mNbta2uyqckeAsD8MvJTrUgYTDSWFZzGQBgLd\nG6ZPf/t92y7XQziqaCSjLUg4oF0lKnfCAXDNXKA916UMJhpKCkwk0mgD7wA13dtefPHZeZY1xKed\ngapYJDrXIAGf6ENa5YqUBVJY8niu6xhsNJQUpneBUPc3S5cujnZ2trfp1GBVPLTZVeVYWTApIs/l\nuozBRkNJYfqErCXnAd5/f/b7rlvp5K4kpfqWNruqnPFZ4LMsvFFpNYA0lBSgSKSxA1hI1olvXnvt\nlbmuW6GhRBUNbXZVOVMaAGOmAPqaOsA0lBSuaWRNDX7ttVdWGOM3WQu+KlXQMs2u+hqlBpxUhDrF\nZz2Y6zoGI33CF66Psr9xXccsWvTpPGN0arAqDonoGiSg/dtqgPkEwn4/MDHXpQxGGkoK11IgSlbD\n65Qpk2fadpVODVbFwdVmV5UDFSEXYyYCsVyXMhhpKClQkUijC0wna2rws88+Md91/Q6U5K4wpfqQ\nk06goUQNJBkSjorPui3XdQxWGkoK20yyFlGzbdvMnDl9uuvWaHOWKgp2qktMyNLzjqiBEfSBz0oA\nr+a6lMFKQ0lh+wRwAV/3hscff/hdY2qMHohXxSDT7JrrMtQgIZWhJDAe73VV5YCGkgIWiTTGgDeB\nod3bPvpoTltLy+pVWRNzlCpY8aiu7KoGUEXIFUvuznUZg5mGksLXSK95wC+/PPmNdLpaG15V4XMd\nr9k1qH0lqp+VBgDmZf6pHNFQUvg+AVqA0u4NEyf+9yPLKhNds0QVA8dOGkK+Te+o1DbINLj+K9d1\nDHYaSgpcZhbO/4Da7m1dXZ32Rx/Nme31lihV2OxUl2VCPn0sq/5jCZQEfMAjuS5lsNNQUhzepte5\ncJ56asLbrltj564kpfpGMtqClGizq+pH5UGDMZOBtlyXMthpKCkCkUhjMzCHrNGSadMaV8Zi8c6s\n0+MoVZDiXau12VX1KxkS7hKfdWuu61AaSorJZKAse8PUqY1v2HZNOkf1KNU3tNlV9aeQHwK+ODAp\n16UoDSXF5AO8ZZHXLjv/+OMPzrasIZK1jIlSBUmbXVV/kepwDOF69IzAeUFDSZGIRBrTwEtAffe2\npqaVCe8kfdrwqgqbNruqfuETKA2KiNyZ61KUR0NJcXmDXsMikyY9/Zbj6CEcVdi02VX1BxkStoEH\n0QbXvKGhpLgsBxaQtZzr888/vTCZdBLa8KoKWbxLV3ZVfUyAIeG0WPLXXJeiPqOhpIhEIo0GeAGo\n7N7muo557rnIZNsepiu8qsLl2hjHNQS1r0T1kfIQwLvARzmuRGXRUFJ8ZuE1bK2dqvDQQ3fPSaet\nFJTnriqltpFjJwwhnYGj+oZUl3SKz/pzrutQPWkoKTKZk/S9RtZJ+tLptPv8889Otu2hOlqiCpad\nimqzq+obJQHwW23oNOC8o6GkOP0PCJC1wusDD9wxy7YD6V5LmShVMJLRFiSsza5q20ltaZdYcing\n5roW1ZOGkiIUiTQuw1t6flj3tlQq6U6e/PwU2x6qM3FUQYp3rUaCPm11Vdsm7Iegrwt4ONelqHVp\nKCleT+MtpLb2Rfy++8bPcN2wnXVCYaUKR3ezqy6ipraB1JZ2IVwO6LnB8pCGkiIViTQuBmaQNVoS\nj8ecKVNefEVHS7bckiUrOfLI09lnn+MZM+Z4brrJ+5D16KMvss8+x+P3H8S77264if/GGx9i331/\nyJgxx3PjjQ+t3X7RRTex334/5he/uHLttgceeLbHPuoz3squ2uyqtlLIDyF/XETuz3Upav00lBS3\nCBAma7Tknntue8eYUgdKcldVAQoE/Pz97+cxZ84jTJt2D7fc8ggffriAMWN2YcKE/+Pwwz+3wevO\nmTOPO++cyFtv3cfMmQ/xzDOvMn/+Utrbu5g5cy4zZz5EIBBgzpx5xOMJ7r33aX7zm+MH8N4VDjvV\nZRHyaR+A2iqZUZKrAG36z1MaSorbQrwpwmuXnu/q6rRffXXKqzpasmUaGurYb7/dASgvL2XPPXdk\n+fLV7LHHaHbbbYeNXvejjxZy0EH7EA6H8Pl8HH74/kyY8BI+n0U6bWOMIR5PEAj4+etfH+Css36I\nz6eHKNYnGWuBcED7StSWC/kg7E+LyF25LkVtmIaSIpZZTO0pejWR3HXXLW8bU268QRS1pRYuXM6M\nGXP5whf22az999lnF6ZOnUFLSzuxWIJnn32NpUubKC8v5aijvsQBB5zI8OH1VFaW8/bb7/O97x3R\nz/egcMU7tdlVbR2pLY0iXAMkcl2L2jA9OFv85uOdQXgHYDVAR0d7etq0V1875JD9DvX7F+scyy3Q\n1RXjuOMu4h//uIDy8s1rGN5jj9H87nc/55vf/A1lZSXst9/uWJb3vnrhhT/jwgt/BsBpp/2Rq6/+\nFXfcMZEXX3yTMWN24bLLTum3+1KQPmt2FZJ6Ule1mcJ+CAdiInJLrktRG6cjJUUuM1oykV4LlNx1\n161vQqXxJuiozZFO2/zgB7/jxBOP4phjvrxF1z355KN5++37mTLldqqqKth9956HfGbM8Jpkd9tt\nBx5/fDIPP/wX5s9fyrx5S/qq/KKhza5qS0l9WZdY8lsgmeta1MZpKBkcPgE+Bmq7N7S0rEm+9dbr\nbzjOMJ0WtxmMMZx66tXsueeOnHvuCRvcZ0OamloAWLx4JRMnvswJJ3yrx+VXXnkb11zzK1KpNI7j\njQBYlkU8rq+hvdmpLstos6vaXGVBCFgrAJ3SVgA0lAwCmdGSJ+h1quDbb//n645Tbusqr5v22mvv\n8cADzzFlyjvsv/8J7L//CTz33GtMnDiF7bf/Dm+8MYfvfvdcvv3tswFYvnw13/3uOWuvf9xxF7HP\nPsdz9NHncfPNF1NZ+dl5iJ58cgqf//xeNDTUUVVVwdixuzN27I9IpVKMGbPLgN/XfJeMtyJhv/aV\nqM0i9aVRsawz0dVbC4Js7NOdKh7jxh0uwBVAHdDSvf2nPz11zLHHHvtdv//jYM6KU4PIcJLRsNu6\n7L2t/kBkWX6G7nIoZn7LpndWg1tlyJXa0mnisw7NdSlq8+hIySCRGS2ZAFRmb3/ggTtnt7V1rTGm\nTtOpKgiu1+wKQZ02rTZCBKktTYrP+k2uS1GbT0PJ4PIBsICs3hJjDLfccsOTrtvg6GQsVSgcO+lq\ns6vaqOpwGngGmJnrUtTm01AyiEQijS7wAF5vydq//fTpbzTNmfPeDMdp0KZXVRDsdNQyIZ+O7qn1\nC1hIVUlafNa5uS5FbRkNJYNMJNI4H5gCjMjefsMN1052nEptelUFIRlrQUp0pEStnwwtjyJcCSzL\ndS1qy2goGZyewDtD5toT4LS0rEk+9dTjz9r2SF1+XuW9ZMdqJKgzcNR6lAUh5G8SkRtzXYrachpK\nBqFIpLEdb85+Q/b2++8fn2l6rdVhcZXXXDeNcbXZVfUiIEPL4mLJzwD9gFWANJQMXlPxTtjXo+n1\n1ltvnOi6w7XpVeU9J63NrqqXmpIUQgTv9U0VIA0lg1Qk0ugA99Gr6fXtt19vmjNn1gzHGa5Nryqv\nOdrsqrIFfciQkpRY1lm5LkVtPQ0lg9iGml7/8Y9rJ7tuhTa9qryWjLVqs6taS4aWRREuAppyXYva\nehpK1BN4x17D3Ruam1cnn3pqwnPa9KryWUKbXVW3ISGXoO8TEbkt16WobaOhZJDLNL3+l15Nr/fd\nd/us9vaorvSq8pbrpkCbXVXAQmrLEmJZxwFOrstR20ZDiQKvKWwxvZpeb7rp/ya4boOdNYiiVF6x\n0yltdh3shpXHEC4F5uW6FLXtNJQoIpFGG7iXXk2vM2a8vWbSpKeft+0d0qCj5Cr/aLPr4GaGhFwJ\n+j4QkX/muhbVNzSUKGDDTa+3337TO8uXr1rkOMN1WFTlnWSsFQnrSMmgFLCwvMM2PwTcXJej+oaG\nEpXtCSBF1rQbYwzXXHPpBNuuTPY6wbBSOZfoatJm18HKO2zzO+DTXJei+o6GErVWpul1PDCMrMfG\nqlUr4rff/q9HHGd7WxdVU9sikUhw2Je/bn3tmNM44jsn8ee/jV9nn08+Xcy4H/6GHff9Jv++65G1\n25tb2jj6hLM5ctwpTJr8GgCuneLYY49hZduaAbsPKvdMVdiRoG+WiNya61pU39JQonqbCbwIjMre\n+L//PbPonXfeesO2t9dpwmqrhcNhnn/2SffFieOZ/OQdvP7WTN58Z3aPfWqqKvnj5Wfxq5OP77H9\niadf4uc/PppnHr2FO+59HIAXXnqdsWP3NQ3bjRyw+6ByLOzHqimNZWbb6GGbIqOhRPUQiTQa4BFg\nFVmzcQCuu+6qlzs6Ui2uO1RfCNRWKy0tBSCVTuM4LtVDKnpcXltTxdgxu+P39xyVCwb9xONxkskU\nls/CcRzuuH8Cvz3rdNFm10HCEhhWHhdLfgoszXU5qu9pKFHriEQaE8CtQCkQ6t6eTqfdv/zlqodd\nd6jtXaTUlnNdl68dcxpjv/R9DvnCfuy2y+jNut6x3/0qz09+nR+f8jvOOf1E7v7Pkxx39DcQN67N\nroOEqStJis96AHgy17Wo/qGhRK1XJNK4GPgPMJKs+cBz577fNmHCwxFvmrA+fNSWsyyLFyeO551X\n/sub02fx+pszN+t6FeVl3Hfbn3nusVvZe89deHHKNL7zjcP49dnn88OfnCBvzJjez5WrXDIVQWOV\nhRaLJWfnuhbVf/RdRW3MFOAdYHj2xgceuHPOggUL5jrOSD1pn9pqlRXlfPWIg3lvztwtvu4/brmf\nc8/4CU88PZkvHLA399x9F3+4+f/6oUqVF0I+rLqyuPisbwOJXJej+o+GErVBkUijC9yD9yLQ48D/\nNddcGkkmw3FjqnJRmipQa9a00NbWDkA8kaTx9enss9eu693XmPW3iXy6cCkrVzdz8IFjiSdSiAi2\nnXITSX2vKkpeH0kCS36Brtpa9GRDT3yluo0bd/hewEV4S9GvXUTt0EO/MuL88y89yef72O8tb6LU\nxs2e3cbPfvZb0skYxjV8/+ivceYpP+L+hyMA/PRH42ha3cJRx51BV1cMyxLKykp55em7KSsrAeD0\n317NJb89hdHbj6S5pY2Tfn0FsYTDHy650vy/L35d1ywpMu6w0pSvNHSv+Kxf5roW1f80lKjNMm7c\n4ccB3wEWZm8/99yLDzn88MO+7PfPC+jsPLVpw0lGw27rsvf6dJS2tHoUFZWjDUs7NJQUEbcq5FhV\nJTMtv++LeGczV0VOD9+ozfUkXiAZmr3xxhuve33evAUfeo2vSuVGonONruxabMoCSFVJq+X3HYUG\nkkFDQ4naLJFIYwr4NxAg67TBxhguv/z8J5ubYyu18VXlimsnwBgI+HJdiuoLIR/UlyV8ft/XgNW5\nLkcNHA0larNFIo0rgbvxTtq39rGTSiXdiy8+5z/xeLjLdev1GI7KCcdOuYQ0lBQ8n2CGlaXEZ/0E\neC/X5aiBpaFEbalpeMvQb5+9sbl5dfKqqy66x7brUzAkN5WpQc1OdVm6smvhc+pL0wZuEJHHc12L\nGngaStQWySxD/xAwi17nx/n44w/b//GPa+93nO3SuuKrGmipeBtSEsh1GWobOLVhh4DV6A8GLs11\nLSo3NJSoLRaJNKaB24CV9Gp8nTr15eX/+c89jzvOjjYEc1GeGqTinau12bWAuVUhl9LAp4FQ8Bh0\nKt+gpaFEbZVIpDEK/AOwgersyx577D9zp0yZ/JJt76hL0asB81mzqz7mCo2pCBpTEWwOhIJfArpy\nXY/KHX32qq0WiTSuAf4OlNHreM1NN10/be7cj2fb9midyqcGjGOnDCE9OV9BKQviVodjgVDwYHSm\nzaCnoURtk0ikcSHwT2AYWcdrjDH8/vcXPtPU1L7McUbpVGE1IOxUVLTZtYCE/bi14ZTt2EcAn+a6\nHJV7GkrUNotEGt8D7sNrfF37mEqn0+7FF5/zUDQaaHfdoXqMWPW7VLwVCetISUEI+nCHlqZj8dix\nJSUl7+S6HJUfNJSovvISMAnYIXtjW1tr6ve/v/DedLomaUz1+q+pVB+Jd65GQgFtds13fgtnWKkd\njcXOqBwy5Nlcl6Pyh4YS1ScyU4UfAd4Btsu+7NNPP+m87ro/3GPbwxPGVOvQuuo32uxaAPwWTkOp\n3dXVddWQqiF35roclV/0mav6TCTSaAPjgaVAQ/Zl06e/0fSnP11xVzo9PGlMjQYT1W+02TWP+bwR\nkta2tmura2v+lOtyVP7RUKL6VCTSGAduBOJATfZl77771uqrr77kjnR6WMKYWg0mql/Y6Shos2v+\n8QlOQ6m9es2am4Y2DLsi1+Wo/KShRPW5SKSxBW+qcAioyr5s1qx3m6+88nfjk8n6uOvW6RuH6nOp\neLugza75xSfYw0qdZSuW3zliu5Hn57oclb80lKh+EYk0LgGuxQsmPTpc339/VusVV1wwPpWqjems\nHNXX4p1N2uyaT7xAYi9fsfz+0Tvt+Ktcl6Pym4YS1W8ikcYFeMEkQK9DOXPnvt926aW/vT2ZrIpq\nMFF9yU3Htdk1X/gEe2ipvXzFiodH77zTSbkuR+U/fdaqfhWJNC4C/oL3WKvNvmzevLkdl1xy7vh4\nvLLLdYc5OSlQFSXHTrna7JpjfgunocxZvGzJA6N33vFnuS5HFQYNJarfZQ7l/AUwQF32ZZ9++knn\nRRedPT4WK+903QYNJqpP2OmoaLNrDgV9OA1lzgcffnjzLrvtehLec1+pTdJQogZEJNK4DC+Y2PQK\nJosXL+i68MJfj49GS9odZ7gGE7XN0trsmjthP86wUuett966duz++52T63JUYdFQogZMJNK4Aq/H\nJA3UZ1+2bNmS2Pnnn3lHNBpqc5wRGkzUNtFm1xwpCeDUlziT//fildf+4Y867VdtMQ0lakBFIo0r\n8UZM4ngn8Vtr5crl8fPOO+OOzk5/i+NsZ4O+p6it42iz64AzZQHs2pD97NPPnP2t7377T5HJk/SQ\njdpi+oxVAy4SaWzCGzHppFcwaWpamTjnnNPuWLkytsS2d0qDLyc1qsKnza4Dx60MuekhgdSTT0z8\n6dHfP/aWXNejCpeGEpUTkUjjGuA6oJ1eS9K3trakzjrr5Pvff//jmba9a9pb6kSpLWOnY9rsOgCc\n2rDTYSU7H7jnvm8d9+MfPpzrelRh01CiciYSaWzGCyYtwPDsy2zbNldcccGzzz8/6QXH2dWG8pzU\nqApXOtGmza79yfIWRVvW0rTihuv/euipZ57+cq5LUoVPQ4nKqUiksRW4HliJd3bhHo0kt9124/Tx\n429+0LZ3SOmJ/NSWSHSu1mbX/hKwcIaX2TNnvzfnyksuO+Sa6/8yJ9clqeKgoUTlXCTS2IbXYzID\nGE2vRpJnn5244OqrLx2fSNRFdWaO2lx2KuY1u/r1Za5PlfhxGsqcZ5999oVrrrjqG/c+8uCSXJek\nioc+W1VeyJxd+FYgAuxAr0aSmTOnrzn77FNvWb3aXmbbO2sDrNosjp3WZtc+ZCpDJl0btu+7657b\n7rjltuMjkyetznVNqrhoKFF5IxJpdIDHgfF4PSYV2ZevWrUifuaZP7/nvfc+mO44u6ehJBdlqgKi\nK7v2EUtw6kvsNuKd//enay+c+NiEcyKTJ0VzXZYqPmKMPl9V/hk37vA9gHMAB1jT+/If//ikvY4/\n/oRjLGuZX6RV+wYKxnCS0bDbuuy9AflAVF47mrKykYZlnfoY2VpBH059iT1r1qyF/7rhxl+vWb3m\nf7oGieovGkpU3ho37vDheMGkHlhKr/NnfP7zBw+98MIrfhIMdpX6fMv1eE5BGNhQ4g+WUbfDgZhP\nWwbixxUdUxE0blXIefC+B1557OFHzolMnvR+rmtSxU0P36i8lVmW/hpgJrAj0KM5YPr0N5rOOuuU\nW5qaUkt0PRO1PnYqCmiz6xYTcOpK7E5/uuvKSy6/57GHH/m5BhI1EPSZqvJaJNIYBW4GHsGbMlyW\nfXlT08rEGWf84r7Jk6dMdpzdbGPqdOhP9aDNrlso6MMZUZ7+YP7cJWedfuZls9+bdW5k8qRluS5L\nDQ56+EYVjHHjDt8X+DXeCf3W6TPZd9/9a88//9LjKyqC1X7/4oC3m8ovA3v4BqB65FgTTIWhJa59\nJZtgyoPGrQ45jz7032kP3f+fK4Ep2j+iBpKGElVQMn0mZ+GdM2edPpNAIGCde+4lhx1yyOGHek2w\n2kuQXwY+lJTXjqasdKRhuTa7bpAITk3Ijoud/Oufr3t0xjvvXh2ZPGlBrstSg4+GElVwxo07vBQ4\nETgMWAWsMzXx4IMPazj77AuOD4fdcr9/aQDsgS5TrdfAhxKv2fXzmE9bB+pHFpayAE5N2H5/9pxF\nN1z/t1tbmptvi0ye1JXrstTgpD0lGSIyRETO2IrrPSMilZmvuzL/jxCRR/u6xo3UsFBEatazfZyI\nXJT5+hgR2XOgaupPkUhjDLgDuAEoBUbQa3n6N954deUpp/z45vfemzvdcfawYUgOKlX5wGt2RZtd\ne/NZOPUl6VgpXX+//q//u+KiS89saW6+QQOJyiUdKckQkdFAxBgzptd2vzFmsz5mi0inMaZi03v2\nLRFZAHzeGNO8kX3uwbt/jw9YYQNg3LjDq4CfAgcCK4B4732++tVvbffLX551fDAYD/t8y/zgDnSZ\naq2BHykBqN/xENdqTllEUwP5Y/OWqQgaUx12pja+OvuWG/81NR6L3RSZPGlerutSSj86fOZaYGcR\nmSEib4nIqyLyJDAHQEQmish0EZkjIqd1X2l9oxQiMlpEZme+/oWITBCR50TkYxG5Lmu/U0Rkroi8\nKSLjReSfvYsSkeNE5G+Zr88RkfmZr3cSkalZu54lIu+IyCwR2T3rZ/9TRL4IjAP+L3P/dhSRnTM1\nTReRxqzrHCcis0VkpohMybqdJ0Xk5cx9+H1WfU9s4PfyrUw9M0Xkxcy2MhG5K3N/3xWR723NHypb\n5rw5/wJuA6qAht77TJ48acnpp//kn3PnLpvtOHukey0UqwYBJx2zCOlSNgR9OA1l6Vbiqy+78OJn\n/vaX6++Px2KXayBR+ULnyX3mImBvY8znROQI4JnM94syl59kjGkVkRLgLRF5zBjTSq9Gyw0YC+wH\npIC5InJT5nqXA58DuoCX8Nbj6K0RuDDz9WHAGhEZkfn6laz9VhtjDsgcgroAWBsQjDHTROQpvJGS\nCQAiMhk43RgzT0S+ANwCfBW4AviGMWZF92GpjAOBvfFGIt4WkWeMMe8AJ/f+veA9rm4HDjPGLBKR\nqsxtXAZMNsacnNn2poi8aIyJbcbvcIMikUYDvDZu3OEfAydl6lwOJLv3aWtrTV188TlPjRv3g/d/\n/vNTv+/zdQR9vhU+HTUZHFLxdgKlIwy9DvMNGgLukJBrKoPOk49PfOv+u+6Z7bruA8C0yORJ+iRQ\neUNHSj4jvb5+KyuQAJwjIjOBaXjrZey6Bbc92RjTaYxJAh/gnQn3IOAVY0xb5vDQo6znBdMYswoo\nF5FyYBTwIHA4cCjwatauEzL/v5u5/Q3ex8xtfRF4VERmAP/msxGG14B7ReRUeobWF4wxrcaYROZn\nHZrZnv17GQXsBhwMNHb//owxbZl9vwFcnPmZL+OtdrbdBmrdYpFI42rgb8B9eKvA1q+7z2Pzzzzz\nFzd9+mnzR46zp21MbV/9eJXHEl2rkZB/cAaSEj/OiPL04taVi8467cyJ995x1wOu614SmTzpNQ0k\nKt/oSMmGrZ3RISJfxhtFONgYkxCRl4HwFtxWMutrB+/33nuEpTswWHjBwgBPGmOuAl7HGwGYC0wF\nTsELFeet52d03/76dP9MC2gzxnxunR2MOUNEDgK+A7wjIges53YEMBv5vWxs9Oj/GWM+2cjl2yRz\nUr/J48Yd/iFwKrATsIysRUuamlYmzj//jMcOPfQrI0455YxxQ4bsVuv3rwhAZ3+VpXLMTnZ5j1q/\nBfYgeR+2BKc6ZDshK3337eNfe/app+cAdwLv69ojKl/pSMlnOtlws0El0Jp5490DbyRgWxjgbeAI\nEakSET/wfcAYY1xjzH7GmM9lAgl4IyIX4h2umQF8BUgYY7bkXbQzcz8wxnQAC0TkBwDoGc6/AAAT\nBklEQVTi2Tfz9c7GmLeMMVcCq/FGPwC+LiLVmcM0R+OFo/X9XgzwBnB4pnmYrJ6b54GzuwsSkXVC\nUV+JRBqXA38BHsObnbPOkMjUqS8vP/nkH972yCOPTEwkRkRte7QuVV/EBtXKruVB3FEV9uxPPpx7\n6k9/MeHZp56+A7g0MnnSHA0kKp8NkmfophljmkXktUyDahxYmXXxJOBXIvIB3mjFtA3dzHq+Nqxn\n5MAYs1xE/gy8BbQAHwEdG7jdqcBIvEMirogsBj7cyM9d389+GBgvImcBP/j/7d17lFXlfcbx72/v\nfS5zY4bhNgoo4wjEBLmnWiSDrKDp0hxvidYmNqZpatKmNu1q06zVtF22K2lrmz8SE+taNmk0TRpN\nExNFA4ooYrzLHUFQQQFBmIEZZG7Mubz9490jB5jhJjhnZp7PWmfNmX322efdW2bm8X1/77vx63zc\nZWZ/DySAnwFrgX83s4n4/6983Dm3Ng4PLwK/xIeU/3HOrTSz9b1dF+dcs5ndAjwQ9/zsBj6Bv4/N\nd8xsLT4QbwHed7FrXxYuXJ4FHs5kGtcDt+CHtXZR1HPlnOO+++7d8NBDv9j85S9/9eK5c+c3mu0L\nwnB36DudZLDIZzuCIJXqZVWbQSQVkq9JZTvz3e3f/edvPfPic8+vBH6khdBkoNCU4H5kZhXOufa4\np+QB4IfOuQf7u11HMrPPA7Occ7f2d1tOVSbTmML3MF0HhPhC2KNSx7hx51TceuvfLJg06YIpQfBO\naNY8NOsQzpj+mRIMUDmynoqyswfnyq6JkHxNMltIhflFCx9e8eMf3rMpm83eDzyxcOlirRwoA4ZC\nST8ys/8AFuDrMB51zv1lPzepV2Z2Mz6U/MVxdy5x8bomV+MDSgewp7f9Zs++ePSXvnTrJ0eMqK3z\n9Sb7P8hmDmL9F0qiVBUjx8/EbR1EK7tGAfnqZI7yRGHZE08+/4O77t7e0d6+EvjJwqWLe/23LVLK\nFEpkSMpkGscDNwJT8MNnR6UOM+Oqq64//8Yb//CTqVSh3IeTo9Zmk5PSf6EEoG7iPNy2/QO/2DU0\n8tWpnFUm3YvPv/DCXXfcuaW1paUNuBd4SXUjMlAplMiQlck0GnAhvr5mDL6OqOvI/ZLJVPDFL/75\n7AULPvFxeNeiqFnh5JT1bygZXT+nYHsPBrQP0DtIB0ahOpVnWNKtXbVmxZ3fuePVPbv3ACwDHli4\ndHFfdWkiA4JCiQx5mUxjAr8Y3fVAEl8Me9Q4/KhRo9Of+9wtH50z52NzzDqDKGpOahrxyerfUFI7\nbgaJg0nYN8BCZWC4YcmCq04VNm14df33v3PH2h3btvfM4ntw4dLFO/q7iSKng0KJSCyTaawCrsDP\nFMrie06O+gEpKysPP/OZP5p62WW/d2kyGaSjqCkJg6hO4Yzq31BSOfI8KsrOKrDzwMBYDiEMKAxL\n5hmWclvf2LLprju+v/K1TZsLwDp8z4hm1cigolAicoRMpvEs4AZgJr7WZF9v+wVBaNdcc8PETOba\n+dXV1SPCcE9kts+0dP2x9G8oidJVjBw3AIpdkyH5qkTOKpNsWPfK6nt+8N/rX9u02YDX8Ks/v6a6\nERmMFEpEehHXm0wG/gA4Fz9Tp4k+VqudN2/B2Btu+OylZ589foJZUxAEzUEvI0DSz6EEoG7ipbi3\nWiFfguGxLCJXlegmGbrnn33u2Xv+64evNu1pqgDeAu4HNiiMyGCmUCJyDHE4mYRfdn8q/qaKu+lj\nZbUpU6bV3nTTF+ZOnvyRC6GFMGyKDr/LwFDX/6FkdP0lzpq7jI4SKXY1oDJFrjLq7s5nux5/bMmy\nn97z4ze7Oruq8f/W7gPW6D41MhQolIicoEymcRz+poJz8T0mu/Eh5Shjx44vv/nmWy6ePfvii6DN\nomiv7q0DlEIoqR03g0RXElr6udg1GZKvTOSCqhS7du7ctviRRc8v/NWDLYVCoRK/uN+vgFVa/EyG\nEoUSkZOUyTSOAC7FF8Qm8Auw9foXrqpqWOKmm744/ZJL5l5UUVFZDS0Whi3h0J1S3P+hpGrkeZSl\n6wq2q+2Db0NPr0hF2F0IyK946eUX7//pz1ZtfWNLOf7GSxuBh4GN6hmRoUihROQUZTKNFfi7NV+F\nvznhPvq+fxHTps0aceWV106bPn3mzCiyRBC0JIKgxfrobBmk+j+UJNLDGDFuxgdb7JqOKJRHOatK\n8c6uXTse/c3iZx/61YNv5XO50fj7QD2Pv2HlNtWMyFCmUCLyPmUyjUlgOnAN/o7EbUBzX/ubGfPn\nXz7+ssuumDF58oc/4lyXi6LWlFkLg/8mgP0fSqCn2LUF8mfw918qpFCeyFOZKHR2dbWvfHnFyl//\n4oE1r29+zYAafBp9HFi2cOnipjPXEJGBQ6FE5DTJZBoD4AIgg5+5U8CHkz7HatLpdHjFFdc2zJ+/\nYNb48RMaCoV381HUmvQzkQfjz2ZphJIzVuyaCHAVSVeoiLK5Qj67bs3a1YsefmTtyy+81AKMwg/3\nbcPfeXz1wqWLh+o4nkivFEpETrN4xs5YYBb+xn/V+MXYmuKvvaqtHZm6+urrL5g7t3H2iBGj6wqF\nFhdF+yNfIDtYfk5LI5TUjp9BovM0FbumI1xZVMiXhTkCcxs3bFy3ZNGjq5c/uext51w1vlckCzwF\nPA1s1xCNSO8USkTOoEymMQTOAy4GLsEXM3bie1D6LGSsr2+ouuqq66fMnDl7enV17Yh8/kAuitqT\nZgfML5kyUJVGKKka2UBZesypFbsGBmUJ8ukga5VJ6+zobNv4yoZXnln+9KblTz61I5fLlQO1+FoR\n9YqInASFEpEPSFx78iH8fXZm4udiHABaOUZXSG3tyNS8eQvOnTXroxMbGiZOLCurqMzn9+cTiY6k\nr6sdSOuglEYoSaSrGTFu+okXu6YiXFnk8knrDsuTUdM7e95esWLF+icee3zz5lc37QfSwEggxAfO\nZcBK4B31ioicOIUSkX6QyTRWAlPwwzuT8KGkhRNYzOScc+or5837eP306bMmnXNOfUMUBZFz7xJF\n7fFaKCWyKFivSiOUwHGKXdMRLt0TQlJRR1vbga1btr6+csWK15csemzLu/v3Z/FBpBaI8Bf+KWAF\nmkEjcsoUSkT6WSbTOBKYBiwAxsSb2/DVrsecjmNmTJkyrXbOnEvPmzZt2ofq6safA93OrC0Mw454\nPZSuM9r+k1M6oeS9YteDOd8TkgpdPuFDSPuBtne3vPHG62tWr37j6SeXb9v9zjud+J6tKnyNCPgg\n8hw+iGxZuHTxYJ86JXLGKZSIlIiiAtmJ+CLZyfi6BPAB5bgVr1EU2UUXza276KJLGiZOnFhfWztq\ndDpdXp7LdWSh06KoO2nWE1T6Y32U/g0lQZQikaokSlW6ippxLggjy+fyuX3Ne/ds3bp164ZXNmz/\n7bKntu3ZvacnyUXAcKAs/v4tfBDZAOzUAmcip5dCiUiJimtQzsEP78wGJsQv5fF1KO0ncpyqqmGJ\nqVNnjpw06YIxEybU140dO25sTc2IkVEUJfL5jlwQdIVheDDyvSqdnNm1Us58KDELCJNlRIlywmQZ\nFqazQaKskEhVJAv5fL5l3753tm/bsa1pz56W1ze/vmfpo0u2Ff0eDPGzpSrxATAHrAFeAjYvXLp4\n/5lqt4golIgMGPEKsvX4YtnZ+KEeh+/yaOEkK17r6s4umzp15uiGhkmj6+vrx44Zc9ZZw4YNr4UC\nhUJnHrIWBPkgCPKRWQ7/9zlb9PVUOgnebygxgjBBECUJoxRBlCQIkxAms2GYLiRS5UGYSIXtbe+2\ntbbs27tz165dO3Zsb35z65a961atqWve3VIWWPhU0QEjfAip4FAIeRVYDWwFdujeMyIfHIUSkQEq\nk2kcjp9ufCF+Nk9F/JLh5w2348dpTviH3Mw4//zJ1Q0Nk4bX1o6oqKmpraipqamsqRlePWxYVVV5\neUVlOl1enkym0mZBkM9355zLFiCHWS4IgnwYBPnAf2TPg6Lnw8kejFz7vrfMzN5rrgWhf1jonAUF\nLMybBc5vjwiCiCiRCsMoEWaz3dmDXZ2dbW0HDuxvbW1tbt67t3lv04FdO99u3fTqxr2vbX51fy6X\nO+qcjWBsRHp2YNHL+B4Rh09XGzkUQnYqhIj0H4USkUEgrkcZhe89qQMa8L0qozg8lLTji2jfd0FJ\nZWVVdNZZYyvGjDmrYtSo0RXDh4+oqK4eXlFdXV0ZRWEUBGEQhmHY2tpy7vCa4U2JRDJfVl5RVpYu\nq2hp2bfPFQrOOecKzhW6uroOdnZ2dnZ0dHR1dnZ2d3Z2dHe0tx9sb2/rbm9v797f2tq1a9fb7Tvf\n3tHRW+A4guFnxpQB5fH3AC4iXRuQ+KmZbQXeBppUFyJSOhRKRAaxTKYxhQ8mo4FxHAorPTUThh+y\naMcP/2Q5zUUl2a7cdYU8S/HFuqeLAUl88CjDL99eiLcbfvXcHcCbwHZgF9D82BPPaoaMSAlTKBEZ\nguJ1UkbHj3Pxw0DD8fUVSfwf+J5fDoafBZTH97Bki75mOc7w0AmGkgA/pFL8SOLDRoLDx4J6gsd+\nYCd+1dQdwN740fLYE89qCEZkAFIoEZHDxLN+Knp51OBXLR0eP6/Gr9sBR4eG936xZLvyMwt5t4HD\nF0yxoq8BvremZ65yzzSg/fiQsQ+/dG1b/PUAcEC9HiKDj0KJiJyy+M7IPcMnQW+PXHehLp8rNOPI\ncSi85PC9Ld3AQQUMEQGFEhERESkR/b7Us4iIiAgolIiIiEiJUCgRERGRkqBQIiIiIiVBoURERERK\ngkKJiIiIlASFEhERESkJCiUiMqSY2W1m9tfH2WeUmb1gZivMbK6ZPWJmw07T57edpuNUm9mfno5j\niZQKhRIRGRQsdgK7nsiKkR8H1jrnZjnnfuucu9I59+77bOLJfP6JGA782cm84SSukUi/UCgRkQHL\nzCaY2SYzuxdYB/yDmb1oZmvM7Lai/b4R7/c0MLloe4OZLTKzl81suZlNNrPpwO3A1Wa20szSZvam\nmdXGn7fRzO42s/Vm9qiZpfs6Vry93syeM7O1ZvbNY5xLrZn9Om77c2Z2Ybz9sJ4dM1tnZucC/wY0\nmNkqM7s9fu1rR55/L9do3BGf22Zm3zSz1fHnjo63Z8zs+fgaLCnafpuZ3Ruf45tmdp2ZfTs+v0Vm\nFsX7zTKzZfH1WGxmdaf0H1mGFIUSERnozgfuBP4KGOuc+x1gBjDLzD5mZrOA3wemAVcAH+VQb8Xd\nwK3OudnA14D/dM6tBv4RuM85N9M518XhvRvnA993zk0BWoFP9XWsePt3gTudc1PxdzXuyz8BK5xz\n04C/A34cb++tZ8UBXwfecM7NcM593cwuB84/8vyLr5FzbopzbvsRxyoHnnPOTQeWA38Sb3/aOXex\nc24mcD/wt0XvqQfmA1cBPwGWxOfXCVxpZgnge8Cn4uvxI+Bbxzh3EQCi/m6AiMj79JZz7kUz+zZw\nuZmtirdXABPxdzJ+IA4XXWb2EICZVQBzgP8rGtFIxl+NQ3cyPtJW59za+PkKYMJxjjUHuDZ+/hN8\nL0xvLgGuA3DOPWlmI8ysqo99e9pY7HKOPv/zge3E16iP43Q75x4pOp/L4ufjzeznQF18Llvi7Q5Y\n5JzLm9l6IHDOPRq/tg6YAEwCPgI8Hl+PkGMHMhFAoUREBr72ouf/6py7u/hFM/sqh/8B73keAC3O\nuRm9HPNYdR8Hi57ngfRxjtUrM/sWvufGxb0RxW0rluPwXu30MQ7b2/lPIL5GZhYCL8cvPeicuw3I\nFu1e4NDfhe8B33bOPWxm84Dbivbrxje8YGa9vd+AV5xzc47RVpGjaPhGRAaLR4EvxL0WmNlYMxuF\nH5K4Jq4NqQI+CeCcOwBsNbNPx/ubmU2Nj3UyxaB2nGM9A9wYP/9sz5ucc9+Ih156AsnTPa+b2aVA\nU3zcN4GZ8faZ+KETgAP4XqDjnf97nHP5+DNnxIHkWIZxqHfj88Xne5z3AWwCRpnZxXFbEmb24RN4\nnwxxCiUiMtA5AOfcEuB/gefMbC3wc6DSObcKXxOxBvgNUDyM8Vngj81sNbAeXyPRc8zi3pK+nhd/\n39exvgp8JW7T2b28v8dt+DqQNcC/ADfH238J1MZDJV/B/8HHObcXeCYufL29r/Pvo829tf/I874N\nPxz1MtBUtP1Y1yZumssCnwZuj6/HKuB3j9EGEcAn/P5ug4iIiIh6SkRERKQ0KJSIiIhISVAoERER\nkZKgUCIiIiIlQaFERERESoJCiYiIiJQEhRIREREpCQolIiIiUhIUSkRERKQkKJSIiIhISVAoERER\nkZKgUCIiIiIlQaFERERESoJCiYiIiJQEhRIREREpCQolIiIiUhIUSkRERKQkKJSIiIhISVAoERER\nkZKgUCIiIiIlQaFERERESoJCiYiIiJQEhRIREREpCQolIiIiUhIUSkRERKQkKJSIiIhISVAoERER\nkZKgUCIiIiIlQaFERERESoJCiYiIiJSE/wewFL4z4HjvoQAAAABJRU5ErkJggg==\n",
      "text/plain": [
       "<matplotlib.figure.Figure at 0x7f223813e1d0>"
      ]
     },
     "metadata": {},
     "output_type": "display_data"
    }
   ],
>>>>>>> 8cf875d1ed79f3b4fec6063c0bc150fa0b7c6c69
   "source": [
    "fig = plt.figure(figsize=[8, 8])\n",
    "ax = fig.add_subplot(111)\n",
    "piplt = ax.pie(sizes, explode=None, labels=labels, colors=picolors,\n",
    "                autopct='%1.1f%%', shadow=True, startangle=90)\n",
    "for pi in piplt[0]:\n",
    "    pi.set_edgecolor('w')\n",
    "    \n",
    "ax.set_title('Quality of Code')\n",
    "ax.plot()"
   ]
  },
  {
   "cell_type": "code",
<<<<<<< HEAD
   "execution_count": null,
   "metadata": {
    "collapsed": false
   },
   "outputs": [],
=======
   "execution_count": 107,
   "metadata": {
    "collapsed": false
   },
   "outputs": [
    {
     "data": {
      "text/plain": [
       "32"
      ]
     },
     "execution_count": 107,
     "metadata": {},
     "output_type": "execute_result"
    }
   ],
>>>>>>> 8cf875d1ed79f3b4fec6063c0bc150fa0b7c6c69
   "source": [
    "len(json_list[0]['symbol'])"
   ]
  },
  {
   "cell_type": "code",
<<<<<<< HEAD
   "execution_count": null,
=======
   "execution_count": 108,
>>>>>>> 8cf875d1ed79f3b4fec6063c0bc150fa0b7c6c69
   "metadata": {
    "collapsed": false
   },
   "outputs": [],
   "source": [
    "hist_errors = []\n",
    "for i in range(len(json_list)):\n",
    "    hist_errors.append(len(json_list[i]['symbol']))"
   ]
  },
  {
   "cell_type": "code",
<<<<<<< HEAD
   "execution_count": null,
   "metadata": {
    "collapsed": false
   },
   "outputs": [],
=======
   "execution_count": 109,
   "metadata": {
    "collapsed": false
   },
   "outputs": [
    {
     "data": {
      "text/plain": [
       "[]"
      ]
     },
     "execution_count": 109,
     "metadata": {},
     "output_type": "execute_result"
    },
    {
     "data": {
      "image/png": "iVBORw0KGgoAAAANSUhEUgAAAeIAAAHpCAYAAABeLj9gAAAABHNCSVQICAgIfAhkiAAAAAlwSFlz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\n",
      "text/plain": [
       "<matplotlib.figure.Figure at 0x7f22381264d0>"
      ]
     },
     "metadata": {},
     "output_type": "display_data"
    }
   ],
>>>>>>> 8cf875d1ed79f3b4fec6063c0bc150fa0b7c6c69
   "source": [
    "fig = plt.figure(figsize=[8, 8])\n",
    "ax = fig.add_subplot(111)\n",
    "ax.bar(range(len(hist_errors)), hist_errors, \n",
    "       width=0.8, color=picolors[0])\n",
    "ax.set_ylim([0, 10])\n",
    "ax.set_title('Progress over all core challenge submission')\n",
    "ax.plot()"
   ]
  },
  {
   "cell_type": "code",
<<<<<<< HEAD
   "execution_count": null,
   "metadata": {
    "collapsed": false
   },
   "outputs": [],
   "source": [
    "range(hist_errors)"
   ]
  },
  {
   "cell_type": "code",
=======
>>>>>>> 8cf875d1ed79f3b4fec6063c0bc150fa0b7c6c69
   "execution_count": null,
   "metadata": {
    "collapsed": true
   },
   "outputs": [],
   "source": []
  }
 ],
 "metadata": {
  "kernelspec": {
   "display_name": "Python 2",
   "language": "python",
   "name": "python2"
  },
  "language_info": {
   "codemirror_mode": {
    "name": "ipython",
    "version": 2
   },
   "file_extension": ".py",
   "mimetype": "text/x-python",
   "name": "python",
   "nbconvert_exporter": "python",
   "pygments_lexer": "ipython2",
   "version": "2.7.10"
  }
 },
 "nbformat": 4,
 "nbformat_minor": 0
}
